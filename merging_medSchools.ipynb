{
 "cells": [
  {
   "cell_type": "code",
   "execution_count": 1,
   "metadata": {
    "collapsed": false,
    "deletable": true,
    "editable": true
   },
   "outputs": [],
   "source": [
    "import json\n",
    "import pprint\n",
    "import csv\n",
    "import pickle\n",
    "import datetime\n",
    "import sPickle"
   ]
  },
  {
   "cell_type": "code",
   "execution_count": null,
   "metadata": {
    "collapsed": false,
    "deletable": true,
    "editable": true
   },
   "outputs": [],
   "source": [
    "#took ~40 minutes\n",
    "\n",
    "a = datetime.datetime.now().replace(microsecond=0)\n",
    "\n",
    "with open(\"/mnt/mypartition/pokitdok_project/npidata_20170108.jsonl\", 'r') as f:\n",
    "    the_data = [json.loads(l) for l in f]\n",
    "    \n",
    "b = datetime.datetime.now().replace(microsecond=0)\n",
    "print(b-a)"
   ]
  },
  {
   "cell_type": "code",
   "execution_count": 3,
   "metadata": {
    "collapsed": false
   },
   "outputs": [
    {
     "ename": "NameError",
     "evalue": "name 'the_data' is not defined",
     "output_type": "error",
     "traceback": [
      "\u001b[0;31m---------------------------------------------------------------------------\u001b[0m",
      "\u001b[0;31mNameError\u001b[0m                                 Traceback (most recent call last)",
      "\u001b[0;32m<ipython-input-3-8cbb08f53eca>\u001b[0m in \u001b[0;36m<module>\u001b[0;34m()\u001b[0m\n\u001b[1;32m      1\u001b[0m \u001b[0;31m#test to see that data is read in\u001b[0m\u001b[0;34m\u001b[0m\u001b[0;34m\u001b[0m\u001b[0m\n\u001b[0;32m----> 2\u001b[0;31m \u001b[0mlen\u001b[0m\u001b[0;34m(\u001b[0m\u001b[0mthe_data\u001b[0m\u001b[0;34m)\u001b[0m\u001b[0;34m\u001b[0m\u001b[0m\n\u001b[0m",
      "\u001b[0;31mNameError\u001b[0m: name 'the_data' is not defined"
     ]
    }
   ],
   "source": [
    "#test to see that data is read in\n",
    "len(the_data)"
   ]
  },
  {
   "cell_type": "code",
   "execution_count": 8,
   "metadata": {
    "collapsed": false
   },
   "outputs": [
    {
     "data": {
      "text/plain": [
       "{'degree': 'MD',\n",
       " 'entity_type': 'individual',\n",
       " 'enumeration_date': '2005-05-23T00:00:00',\n",
       " 'fax': '3088652506',\n",
       " 'first_name': 'DAVID',\n",
       " 'full_name': 'DAVID A WIEBE',\n",
       " 'gender': 'Male',\n",
       " 'is_sole_proprietor': 'X',\n",
       " 'last_name': 'WIEBE',\n",
       " 'last_update_date': '2007-07-08T00:00:00',\n",
       " 'licenses': [{'number': '12637', 'state': 'NE'}],\n",
       " 'locations': [{'address_lines': ['Po Box 2168'],\n",
       "   'city': 'Kearney',\n",
       "   'country': 'US',\n",
       "   'fax': '3088652506',\n",
       "   'md5hash': '2f47fded67f1900b98146794d70fec25',\n",
       "   'phone': '3088652512',\n",
       "   'role': ['mailing'],\n",
       "   'state': 'NE',\n",
       "   'zipcode': '688482168'},\n",
       "  {'address_lines': ['3500 Central Ave'],\n",
       "   'city': 'Kearney',\n",
       "   'country': 'US',\n",
       "   'fax': '3088652506',\n",
       "   'md5hash': 'f0384445e5a4ba49dfaa7acdd97c0632',\n",
       "   'phone': '3088652512',\n",
       "   'role': ['practice'],\n",
       "   'state': 'NE',\n",
       "   'zipcode': '688472944'}],\n",
       " 'middle_name': 'A',\n",
       " 'npi': '1679576722',\n",
       " 'other_provider_identifiers': [{'id': '93420WI',\n",
       "   'state': 'NE',\n",
       "   'type': 'MEDICARE ID-TYPE UNSPECIFIED'},\n",
       "  {'id': '1553', 'issuer': 'BCBS', 'state': 'NE', 'type': 'OTHER'},\n",
       "  {'id': '645540', 'issuer': 'FIRSTGUARD', 'state': 'KS', 'type': 'OTHER'},\n",
       "  {'id': '46969', 'issuer': 'BCBS', 'state': 'KS', 'type': 'OTHER'},\n",
       "  {'id': 'B67599', 'type': 'MEDICARE UPIN'},\n",
       "  {'id': '046969WI', 'state': 'KS', 'type': 'MEDICARE ID-TYPE UNSPECIFIED'}],\n",
       " 'phone': '3088652512',\n",
       " 'provenance': [{'date': '2017-01-08', 'mapping_module': 'nppes_npi'}],\n",
       " 'specialty': [{'classification': 'Orthopaedic Surgery',\n",
       "   'code': '207X00000X'}],\n",
       " 'specialty_primary': ['Orthopaedic Surgery'],\n",
       " 'taxonomy_codes': ['207X00000X']}"
      ]
     },
     "execution_count": 8,
     "metadata": {},
     "output_type": "execute_result"
    }
   ],
   "source": [
    "the_data[0]"
   ]
  },
  {
   "cell_type": "code",
   "execution_count": 3,
   "metadata": {
    "collapsed": false
   },
   "outputs": [
    {
     "ename": "MemoryError",
     "evalue": "",
     "output_type": "error",
     "traceback": [
      "\u001b[0;31m---------------------------------------------------------------------------\u001b[0m",
      "\u001b[0;31mMemoryError\u001b[0m                               Traceback (most recent call last)",
      "\u001b[0;32m<ipython-input-3-79ba63792842>\u001b[0m in \u001b[0;36m<module>\u001b[0;34m()\u001b[0m\n\u001b[1;32m      2\u001b[0m \u001b[0ma\u001b[0m \u001b[0;34m=\u001b[0m \u001b[0mdatetime\u001b[0m\u001b[0;34m.\u001b[0m\u001b[0mdatetime\u001b[0m\u001b[0;34m.\u001b[0m\u001b[0mnow\u001b[0m\u001b[0;34m(\u001b[0m\u001b[0;34m)\u001b[0m\u001b[0;34m.\u001b[0m\u001b[0mreplace\u001b[0m\u001b[0;34m(\u001b[0m\u001b[0mmicrosecond\u001b[0m\u001b[0;34m=\u001b[0m\u001b[0;36m0\u001b[0m\u001b[0;34m)\u001b[0m\u001b[0;34m\u001b[0m\u001b[0m\n\u001b[1;32m      3\u001b[0m \u001b[0;34m\u001b[0m\u001b[0m\n\u001b[0;32m----> 4\u001b[0;31m \u001b[0mpickle\u001b[0m\u001b[0;34m.\u001b[0m\u001b[0mdump\u001b[0m\u001b[0;34m(\u001b[0m \u001b[0mthe_data\u001b[0m\u001b[0;34m,\u001b[0m \u001b[0mopen\u001b[0m\u001b[0;34m(\u001b[0m \u001b[0;34m\"/mnt/mypartition/pokitdok_project/the_data.p\"\u001b[0m\u001b[0;34m,\u001b[0m \u001b[0;34m\"wb\"\u001b[0m \u001b[0;34m)\u001b[0m \u001b[0;34m)\u001b[0m\u001b[0;34m\u001b[0m\u001b[0m\n\u001b[0m\u001b[1;32m      5\u001b[0m \u001b[0;34m\u001b[0m\u001b[0m\n\u001b[1;32m      6\u001b[0m \u001b[0mb\u001b[0m \u001b[0;34m=\u001b[0m \u001b[0mdatetime\u001b[0m\u001b[0;34m.\u001b[0m\u001b[0mdatetime\u001b[0m\u001b[0;34m.\u001b[0m\u001b[0mnow\u001b[0m\u001b[0;34m(\u001b[0m\u001b[0;34m)\u001b[0m\u001b[0;34m.\u001b[0m\u001b[0mreplace\u001b[0m\u001b[0;34m(\u001b[0m\u001b[0mmicrosecond\u001b[0m\u001b[0;34m=\u001b[0m\u001b[0;36m0\u001b[0m\u001b[0;34m)\u001b[0m\u001b[0;34m\u001b[0m\u001b[0m\n",
      "\u001b[0;31mMemoryError\u001b[0m: "
     ]
    }
   ],
   "source": [
    "a = datetime.datetime.now().replace(microsecond=0)\n",
    "#NOTE: regular pickle fails bc of memory error. use streaming-pickle.\n",
    "\n",
    "#pickle.dump( the_data, open( \"/mnt/mypartition/pokitdok_project/the_data.p\", \"wb\" ) )\n",
    "import sPickle\n",
    "\n",
    "sPickle.s_dump( the_data, open( \"/mnt/mypartition/pokitdok_project/the_data.spkl\", \"w\" ) )\n",
    "\n",
    "b = datetime.datetime.now().replace(microsecond=0)\n",
    "print(b-a)"
   ]
  },
  {
   "cell_type": "code",
   "execution_count": null,
   "metadata": {
    "collapsed": true
   },
   "outputs": [],
   "source": []
  },
  {
   "cell_type": "code",
   "execution_count": 6,
   "metadata": {
    "collapsed": false,
    "deletable": true,
    "editable": true
   },
   "outputs": [
    {
     "ename": "KeyboardInterrupt",
     "evalue": "",
     "output_type": "error",
     "traceback": [
      "\u001b[0;31m---------------------------------------------------------------------------\u001b[0m",
      "\u001b[0;31mKeyboardInterrupt\u001b[0m                         Traceback (most recent call last)",
      "\u001b[0;32m<ipython-input-6-8d14531bcf92>\u001b[0m in \u001b[0;36m<module>\u001b[0;34m()\u001b[0m\n\u001b[1;32m      2\u001b[0m \u001b[0;32mfor\u001b[0m \u001b[0mi\u001b[0m \u001b[0;32min\u001b[0m \u001b[0mthe_data\u001b[0m\u001b[0;34m:\u001b[0m\u001b[0;34m\u001b[0m\u001b[0m\n\u001b[1;32m      3\u001b[0m     \u001b[0;32mtry\u001b[0m\u001b[0;34m:\u001b[0m\u001b[0;34m\u001b[0m\u001b[0m\n\u001b[0;32m----> 4\u001b[0;31m         \u001b[0;32mif\u001b[0m \u001b[0;34m'npi'\u001b[0m \u001b[0;32min\u001b[0m \u001b[0mi\u001b[0m\u001b[0;34m:\u001b[0m\u001b[0;34m\u001b[0m\u001b[0m\n\u001b[0m\u001b[1;32m      5\u001b[0m             \u001b[0;32mpass\u001b[0m\u001b[0;34m\u001b[0m\u001b[0m\n\u001b[1;32m      6\u001b[0m         \u001b[0;32melse\u001b[0m\u001b[0;34m:\u001b[0m\u001b[0;34m\u001b[0m\u001b[0m\n",
      "\u001b[0;31mKeyboardInterrupt\u001b[0m: "
     ]
    }
   ],
   "source": [
    "#checking that all entries have npi's\n",
    "#NOTE: don't run unless have more time bc takes foreverrrrr.....going to assume PokitDok has scrubbed those records without\n",
    "#since they told us they did do some cleaning prior\n",
    "a = datetime.datetime.now().replace(microsecond=0)\n",
    "\n",
    "for i in the_data:\n",
    "    try:\n",
    "        if 'npi' in i:\n",
    "            pass\n",
    "        else:\n",
    "            print(\"False\")\n",
    "    except KeyError:\n",
    "        print(i)\n",
    "        print(\"False\")   \n",
    "        \n",
    "b = datetime.datetime.now().replace(microsecond=0)\n",
    "print(b-a)"
   ]
  },
  {
   "cell_type": "code",
   "execution_count": null,
   "metadata": {
    "collapsed": true
   },
   "outputs": [],
   "source": [
    "#load in 2nd file that we pickled \n"
   ]
  },
  {
   "cell_type": "code",
   "execution_count": 40,
   "metadata": {
    "collapsed": false,
    "deletable": true,
    "editable": true
   },
   "outputs": [
    {
     "name": "stdout",
     "output_type": "stream",
     "text": [
      "NPI\n",
      "Medical school name\n",
      "Graduation year\n",
      "1821199704\n",
      "PALMER COLLEGE CHIROPRACTIC -  WEST SUNNYVALE\n",
      "1980\n",
      "1487927612\n",
      "LIFE CHIROPRACTIC COLLEGE - WEST\n",
      "2010\n",
      "1235146762\n",
      "OTHER\n",
      "1992\n",
      "1285727842\n",
      "OTHER\n",
      "1981\n",
      "1770581647\n",
      "LIFE CHIROPRACTIC COLLEGE - WEST\n",
      "1982\n",
      "1447638408\n",
      "OTHER\n",
      "2014\n",
      "1295821098\n",
      "OHIO STATE UNIVERSITY COLLEGE OF MEDICINE\n",
      "1984\n",
      "1285616490\n",
      "UNIVERSITY OF OKLAHOMA COLLEGE OF MEDICINE\n",
      "1998\n",
      "1063514289\n",
      "OTHER\n",
      "1997\n"
     ]
    }
   ],
   "source": [
    "#just to verify getting correct data\n",
    "i = 0\n",
    "for obj in data:\n",
    "    if i<10:\n",
    "        #this is the NPI\n",
    "        print(data[i][0])\n",
    "        #this is the med school\n",
    "        print(data[i][9])\n",
    "        #this is the grad year\n",
    "        print(data[i][10])\n",
    "    i=i+1"
   ]
  },
  {
   "cell_type": "markdown",
   "metadata": {
    "deletable": true,
    "editable": true
   },
   "source": [
    "### Make dictionary of npi's and med schools"
   ]
  },
  {
   "cell_type": "code",
   "execution_count": 7,
   "metadata": {
    "collapsed": false,
    "deletable": true,
    "editable": true
   },
   "outputs": [
    {
     "name": "stdout",
     "output_type": "stream",
     "text": [
      "YES\n",
      "YES\n",
      "2111151\n",
      "1151158\n"
     ]
    }
   ],
   "source": [
    "#how many records have blank med schools?\n",
    "#answer: none\n",
    "dictMedSchools = {}\n",
    "i=0\n",
    "dups=0\n",
    "for obj in data:\n",
    "    #key is the npi, value is the med school\n",
    "    if (dictMedSchools.get(obj[0]) is not None) & (dictMedSchools.get(obj[0]) != 'NULL'):\n",
    "        dups=dups+1\n",
    "    #accounting for duplicates and null values\n",
    "    elif obj[9]=='':\n",
    "        dictMedSchools[obj[0]] = 'NULL'\n",
    "    else:\n",
    "        dictMedSchools[obj[0]] = obj[9]\n",
    "    i=i+1\n",
    "\n",
    "print(i)\n",
    "print(dups)"
   ]
  },
  {
   "cell_type": "markdown",
   "metadata": {
    "deletable": true,
    "editable": true
   },
   "source": [
    "TODO: check whether duplicates are overwriting school names with 'Other' or nulls or not"
   ]
  },
  {
   "cell_type": "code",
   "execution_count": 9,
   "metadata": {
    "collapsed": false,
    "deletable": true,
    "editable": true
   },
   "outputs": [
    {
     "data": {
      "text/plain": [
       "959993"
      ]
     },
     "execution_count": 9,
     "metadata": {},
     "output_type": "execute_result"
    }
   ],
   "source": [
    "len(dictMedSchools)"
   ]
  },
  {
   "cell_type": "code",
   "execution_count": 11,
   "metadata": {
    "collapsed": false,
    "deletable": true,
    "editable": true
   },
   "outputs": [
    {
     "name": "stdout",
     "output_type": "stream",
     "text": [
      "OTHER\n"
     ]
    }
   ],
   "source": [
    "#test on one record that should be in MedSchools dictionary\n",
    "print(dictMedSchools.get('1114920261'))"
   ]
  },
  {
   "cell_type": "markdown",
   "metadata": {
    "deletable": true,
    "editable": true
   },
   "source": [
    "### Adding med school to datafile"
   ]
  },
  {
   "cell_type": "code",
   "execution_count": 27,
   "metadata": {
    "collapsed": false,
    "deletable": true,
    "editable": true
   },
   "outputs": [],
   "source": [
    "for i in the_data:\n",
    "    i['med_school'] = dictMedSchools.get(i['npi'])"
   ]
  },
  {
   "cell_type": "code",
   "execution_count": 37,
   "metadata": {
    "collapsed": false,
    "deletable": true,
    "editable": true
   },
   "outputs": [
    {
     "data": {
      "text/plain": [
       "{'degree': 'MD',\n",
       " 'entity_type': 'individual',\n",
       " 'enumeration_date': '2005-05-23T00:00:00',\n",
       " 'fax': '8068922726',\n",
       " 'first_name': 'ROBERT',\n",
       " 'full_name': 'ROBERT BISBEE',\n",
       " 'gender': 'Male',\n",
       " 'is_sole_proprietor': 'N',\n",
       " 'last_name': 'BISBEE',\n",
       " 'last_update_date': '2012-01-13T00:00:00',\n",
       " 'licenses': [{'number': 'J8461', 'state': 'TX'}],\n",
       " 'locations': [{'address_lines': ['5219 City Bank Pkwy', 'Ste 35'],\n",
       "   'city': 'Lubbock',\n",
       "   'country': 'US',\n",
       "   'fax': '8067222908',\n",
       "   'md5hash': '25d62645fab36a478833c0f5031b6b85',\n",
       "   'phone': '8067852045',\n",
       "   'role': ['mailing'],\n",
       "   'state': 'TX',\n",
       "   'zipcode': '794073545'},\n",
       "  {'address_lines': ['113 Walnut St'],\n",
       "   'city': 'Idalou',\n",
       "   'country': 'US',\n",
       "   'fax': '8068922726',\n",
       "   'md5hash': 'e06be513999cf34cffde1f54ce831e30',\n",
       "   'phone': '8068922537',\n",
       "   'role': ['practice'],\n",
       "   'state': 'TX',\n",
       "   'zipcode': '793294003'}],\n",
       " 'med_school': 'TEXAS TECH UNIVERSITY HEALTH SCIENCE CENTER SCHOOL OF MEDICINE',\n",
       " 'npi': '1750384806',\n",
       " 'other_provider_identifiers': [{'id': 'G22052',\n",
       "   'state': 'TX',\n",
       "   'type': 'MEDICARE UPIN'}],\n",
       " 'phone': '8068922537',\n",
       " 'prefix': 'DR',\n",
       " 'provenance': [{'date': '2017-01-08', 'mapping_module': 'nppes_npi'}],\n",
       " 'specialty': [{'classification': 'Internal Medicine', 'code': '207R00000X'}],\n",
       " 'specialty_primary': ['Internal Medicine'],\n",
       " 'taxonomy_codes': ['207R00000X']}"
      ]
     },
     "execution_count": 37,
     "metadata": {},
     "output_type": "execute_result"
    }
   ],
   "source": [
    "#checking that worked\n",
    "the_data[8]"
   ]
  },
  {
   "cell_type": "markdown",
   "metadata": {
    "deletable": true,
    "editable": true
   },
   "source": [
    "### Now doing the same for the year of graduation"
   ]
  },
  {
   "cell_type": "markdown",
   "metadata": {
    "deletable": true,
    "editable": true
   },
   "source": [
    "### Step 1: make dictionary of npi's and grad years"
   ]
  },
  {
   "cell_type": "code",
   "execution_count": 42,
   "metadata": {
    "collapsed": false,
    "deletable": true,
    "editable": true
   },
   "outputs": [
    {
     "name": "stdout",
     "output_type": "stream",
     "text": [
      "2111151\n",
      "1147907\n"
     ]
    }
   ],
   "source": [
    "#how many records have blank grad years?\n",
    "#answer: none\n",
    "dictGradYears = {}\n",
    "i=0\n",
    "dups=0\n",
    "for obj in data:\n",
    "    #key is the npi, value is the grad year\n",
    "    if (dictGradYears.get(obj[0]) is not None) & (dictGradYears.get(obj[0]) != 'NULL'):\n",
    "        dups=dups+1\n",
    "    #accounting for duplicates and null values\n",
    "    elif obj[10]=='':\n",
    "        dictGradYears[obj[0]] = 'NULL'\n",
    "    else:\n",
    "        dictGradYears[obj[0]] = obj[10]\n",
    "    i=i+1\n",
    "\n",
    "print(i)\n",
    "print(dups)"
   ]
  },
  {
   "cell_type": "code",
   "execution_count": 44,
   "metadata": {
    "collapsed": false,
    "deletable": true,
    "editable": true
   },
   "outputs": [
    {
     "name": "stdout",
     "output_type": "stream",
     "text": [
      "959993\n"
     ]
    }
   ],
   "source": [
    "print(len(dictGradYears))"
   ]
  },
  {
   "cell_type": "markdown",
   "metadata": {
    "deletable": true,
    "editable": true
   },
   "source": [
    "matching up?"
   ]
  },
  {
   "cell_type": "code",
   "execution_count": null,
   "metadata": {
    "collapsed": true
   },
   "outputs": [],
   "source": [
    "#test on one record that should be in MedSchools dictionary\n",
    "print(dictGradYears.get('1114920261'))"
   ]
  },
  {
   "cell_type": "markdown",
   "metadata": {
    "deletable": true,
    "editable": true
   },
   "source": [
    "### Step 2: add grad years to datafile by searching dictionary on NPI"
   ]
  },
  {
   "cell_type": "code",
   "execution_count": null,
   "metadata": {
    "collapsed": true,
    "deletable": true,
    "editable": true
   },
   "outputs": [],
   "source": [
    "for i in the_data:\n",
    "    i['grad_year'] = dictGradYears.get(i['npi'])"
   ]
  },
  {
   "cell_type": "code",
   "execution_count": null,
   "metadata": {
    "collapsed": true
   },
   "outputs": [],
   "source": [
    "#checking that worked\n",
    "the_data[8]"
   ]
  },
  {
   "cell_type": "code",
   "execution_count": null,
   "metadata": {
    "collapsed": true
   },
   "outputs": [],
   "source": []
  },
  {
   "cell_type": "code",
   "execution_count": null,
   "metadata": {
    "collapsed": true
   },
   "outputs": [],
   "source": []
  },
  {
   "cell_type": "code",
   "execution_count": null,
   "metadata": {
    "collapsed": true
   },
   "outputs": [],
   "source": []
  },
  {
   "cell_type": "code",
   "execution_count": null,
   "metadata": {
    "collapsed": true
   },
   "outputs": [],
   "source": []
  }
 ],
 "metadata": {
  "anaconda-cloud": {},
  "kernelspec": {
   "display_name": "Python 3",
   "language": "python",
   "name": "python3"
  },
  "language_info": {
   "codemirror_mode": {
    "name": "ipython",
    "version": 3
   },
   "file_extension": ".py",
   "mimetype": "text/x-python",
   "name": "python",
   "nbconvert_exporter": "python",
   "pygments_lexer": "ipython3",
   "version": "3.5.2"
  }
 },
 "nbformat": 4,
 "nbformat_minor": 2
}
