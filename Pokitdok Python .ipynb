{
 "cells": [
  {
   "cell_type": "code",
   "execution_count": 1,
   "metadata": {
    "collapsed": true
   },
   "outputs": [],
   "source": [
    "import json\n",
    "from pprint import pprint\n",
    "import pandas as pd\n",
    "#https://docs.python.org/2/library/json.html #JSON for Python"
   ]
  },
  {
   "cell_type": "code",
   "execution_count": 2,
   "metadata": {
    "collapsed": false
   },
   "outputs": [],
   "source": [
    "with open(\"sample.jsonl\", 'r') as f:\n",
    "    the_data = [json.loads(l) for l in f]"
   ]
  },
  {
   "cell_type": "code",
   "execution_count": 3,
   "metadata": {
    "collapsed": false
   },
   "outputs": [
    {
     "data": {
      "text/plain": [
       "1000"
      ]
     },
     "execution_count": 3,
     "metadata": {},
     "output_type": "execute_result"
    }
   ],
   "source": [
    "len(the_data)"
   ]
  },
  {
   "cell_type": "code",
   "execution_count": 4,
   "metadata": {
    "collapsed": false
   },
   "outputs": [
    {
     "data": {
      "text/plain": [
       "{'degree': 'MD',\n",
       " 'entity_type': 'individual',\n",
       " 'enumeration_date': '2005-05-23T00:00:00',\n",
       " 'fax': '6023446601',\n",
       " 'first_name': 'WARREN',\n",
       " 'full_name': 'WARREN D KUIPERS',\n",
       " 'gender': 'Male',\n",
       " 'is_sole_proprietor': 'N',\n",
       " 'last_name': 'KUIPERS',\n",
       " 'last_update_date': '2015-02-12T00:00:00',\n",
       " 'licenses': [{'number': '23525', 'state': 'AZ'}],\n",
       " 'locations': [{'address_lines': ['1205 S 7th Ave'],\n",
       "   'city': 'Phoenix',\n",
       "   'country': 'US',\n",
       "   'fax': '6023446601',\n",
       "   'md5hash': '2ff19e5b12715d14595d7423dfa51557',\n",
       "   'phone': '6023446600',\n",
       "   'role': ['practice'],\n",
       "   'state': 'AZ',\n",
       "   'zipcode': '850073913'},\n",
       "  {'address_lines': ['2929 E Thomas Rd'],\n",
       "   'city': 'Phoenix',\n",
       "   'country': 'US',\n",
       "   'md5hash': 'caf3f0a4b9fc2f6983f6c014b9d718d9',\n",
       "   'phone': '6024705000',\n",
       "   'role': ['mailing'],\n",
       "   'state': 'AZ',\n",
       "   'zipcode': '850168034'}],\n",
       " 'middle_name': 'D',\n",
       " 'npi': '1578566626',\n",
       " 'other_provider_identifiers': [{'id': '325052',\n",
       "   'state': 'AZ',\n",
       "   'type': 'MEDICAID'},\n",
       "  {'id': 'D57473', 'type': 'MEDICARE UPIN'},\n",
       "  {'id': 'Z150575', 'state': 'AZ', 'type': 'MEDICARE PIN'},\n",
       "  {'id': 'Z150571', 'state': 'AZ', 'type': 'MEDICARE PIN'}],\n",
       " 'phone': '6023446600',\n",
       " 'provenance': [{'date': '2017-01-08', 'mapping_module': 'nppes_npi'}],\n",
       " 'specialty': [{'classification': 'Family Medicine', 'code': '207Q00000X'}],\n",
       " 'specialty_primary': ['Family Medicine'],\n",
       " 'taxonomy_codes': ['207Q00000X']}"
      ]
     },
     "execution_count": 4,
     "metadata": {},
     "output_type": "execute_result"
    }
   ],
   "source": [
    "the_data[10]"
   ]
  },
  {
   "cell_type": "code",
   "execution_count": 5,
   "metadata": {
    "collapsed": false
   },
   "outputs": [
    {
     "data": {
      "text/plain": [
       "1306849450"
      ]
     },
     "execution_count": 5,
     "metadata": {},
     "output_type": "execute_result"
    }
   ],
   "source": [
    "int(the_data[3]['npi'])"
   ]
  },
  {
   "cell_type": "code",
   "execution_count": 8,
   "metadata": {
    "collapsed": false
   },
   "outputs": [
    {
     "name": "stderr",
     "output_type": "stream",
     "text": [
      "/Users/kaya/anaconda/lib/python3.5/site-packages/IPython/core/interactiveshell.py:2717: DtypeWarning: Columns (10) have mixed types. Specify dtype option on import or set low_memory=False.\n",
      "  interactivity=interactivity, compiler=compiler, result=result)\n"
     ]
    }
   ],
   "source": [
    "medicarePUF1 = pd.read_table('./Big Files/Medicare_Provider_Util_Payment_PUF_CY2014.txt', skiprows = [1])\n",
    "#medicarePUF2 = pd.read_table('Medicare_Util_Payment_Abbrev_PUF.txt', skiprows = [1]) #for smaller file"
   ]
  },
  {
   "cell_type": "code",
   "execution_count": 9,
   "metadata": {
    "collapsed": false
   },
   "outputs": [
    {
     "data": {
      "text/plain": [
       "str"
      ]
     },
     "execution_count": 9,
     "metadata": {},
     "output_type": "execute_result"
    }
   ],
   "source": [
    "type(medicarePUF1['hcpcs_code'][1])"
   ]
  },
  {
   "cell_type": "code",
   "execution_count": 10,
   "metadata": {
    "collapsed": false,
    "scrolled": true
   },
   "outputs": [
    {
     "data": {
      "text/plain": [
       "npi                                                                        1588667638\n",
       "nppes_provider_last_org_name                                                  PILCHER\n",
       "nppes_provider_first_name                                                     WILLIAM\n",
       "nppes_provider_mi                                                                   C\n",
       "nppes_credentials                                                                  MD\n",
       "nppes_provider_gender                                                               M\n",
       "nppes_entity_code                                                                   I\n",
       "nppes_provider_street1                                               1824 KING STREET\n",
       "nppes_provider_street2                                                      SUITE 300\n",
       "nppes_provider_city                                                      JACKSONVILLE\n",
       "nppes_provider_zip                                                          322044736\n",
       "nppes_provider_state                                                               FL\n",
       "nppes_provider_country                                                             US\n",
       "provider_type                                                              Cardiology\n",
       "medicare_participation_indicator                                                    Y\n",
       "place_of_service                                                                    F\n",
       "hcpcs_code                                                                      78452\n",
       "hcpcs_description                   Nuclear medicine study of vessels of heart usi...\n",
       "hcpcs_drug_indicator                                                                N\n",
       "line_srvc_cnt                                                                     297\n",
       "bene_unique_cnt                                                                   297\n",
       "bene_day_srvc_cnt                                                                 297\n",
       "average_Medicare_allowed_amt                                                    79.94\n",
       "average_submitted_chrg_amt                                                    239.212\n",
       "average_Medicare_payment_amt                                                  57.6784\n",
       "average_Medicare_standard_amt                                                 58.6902\n",
       "Name: 5455743, dtype: object"
      ]
     },
     "execution_count": 10,
     "metadata": {},
     "output_type": "execute_result"
    }
   ],
   "source": [
    "#sample record in medicare PUF\n",
    "medicarePUF1.ix[5455743]"
   ]
  },
  {
   "cell_type": "code",
   "execution_count": null,
   "metadata": {
    "collapsed": true
   },
   "outputs": [],
   "source": []
  },
  {
   "cell_type": "code",
   "execution_count": null,
   "metadata": {
    "collapsed": false,
    "scrolled": false
   },
   "outputs": [],
   "source": [
    "#find matching npi in PUF and the_data\n",
    "for i in range (medicarePUF1.shape[0]):\n",
    "    for j in range (len(the_data)):\n",
    "        if int(the_data[j]['npi']) == medicarePUF1['npi'][i]:\n",
    "            print (\"in the_data: \" + repr(j) + \", in PUF: \" + repr(i))\n",
    "            break"
   ]
  },
  {
   "cell_type": "code",
   "execution_count": 11,
   "metadata": {
    "collapsed": false
   },
   "outputs": [
    {
     "data": {
      "text/plain": [
       "(9316307, 26)"
      ]
     },
     "execution_count": 11,
     "metadata": {},
     "output_type": "execute_result"
    }
   ],
   "source": [
    "medicarePUF1.shape"
   ]
  },
  {
   "cell_type": "code",
   "execution_count": 20,
   "metadata": {
    "collapsed": false
   },
   "outputs": [
    {
     "data": {
      "text/plain": [
       "npi                                   int64\n",
       "nppes_provider_last_org_name         object\n",
       "nppes_provider_first_name            object\n",
       "nppes_provider_mi                    object\n",
       "nppes_credentials                    object\n",
       "nppes_provider_gender                object\n",
       "nppes_entity_code                    object\n",
       "nppes_provider_street1               object\n",
       "nppes_provider_street2               object\n",
       "nppes_provider_city                  object\n",
       "nppes_provider_zip                   object\n",
       "nppes_provider_state                 object\n",
       "nppes_provider_country               object\n",
       "provider_type                        object\n",
       "medicare_participation_indicator     object\n",
       "place_of_service                     object\n",
       "hcpcs_code                           object\n",
       "hcpcs_description                    object\n",
       "hcpcs_drug_indicator                 object\n",
       "line_srvc_cnt                       float64\n",
       "bene_unique_cnt                       int64\n",
       "bene_day_srvc_cnt                     int64\n",
       "average_Medicare_allowed_amt        float64\n",
       "average_submitted_chrg_amt          float64\n",
       "average_Medicare_payment_amt        float64\n",
       "average_Medicare_standard_amt       float64\n",
       "dtype: object"
      ]
     },
     "execution_count": 20,
     "metadata": {},
     "output_type": "execute_result"
    }
   ],
   "source": [
    "medicarePUF1.dtypes"
   ]
  },
  {
   "cell_type": "code",
   "execution_count": 16,
   "metadata": {
    "collapsed": false
   },
   "outputs": [
    {
     "data": {
      "text/plain": [
       "str"
      ]
     },
     "execution_count": 16,
     "metadata": {},
     "output_type": "execute_result"
    }
   ],
   "source": [
    "type(medicarePUF1.hcpcs_code[1])"
   ]
  },
  {
   "cell_type": "code",
   "execution_count": 17,
   "metadata": {
    "collapsed": false
   },
   "outputs": [],
   "source": [
    "#tests json file update\n",
    "a_dict = {'new_key': 'new_value', 'hello' : '123', 'goodbye' : '321'}\n",
    "\n",
    "with open('test.json') as f:\n",
    "    data = json.load(f)\n",
    "\n",
    "data.update(a_dict)\n",
    "\n",
    "with open('test.json', 'w') as f:\n",
    "    json.dump(data, f)"
   ]
  },
  {
   "cell_type": "code",
   "execution_count": 25,
   "metadata": {
    "collapsed": false
   },
   "outputs": [
    {
     "data": {
      "text/plain": [
       "['npi',\n",
       " 'nppes_provider_last_org_name',\n",
       " 'nppes_provider_first_name',\n",
       " 'nppes_provider_mi',\n",
       " 'nppes_credentials',\n",
       " 'nppes_provider_gender',\n",
       " 'nppes_entity_code',\n",
       " 'nppes_provider_street1',\n",
       " 'nppes_provider_street2',\n",
       " 'nppes_provider_city',\n",
       " 'nppes_provider_zip',\n",
       " 'nppes_provider_state',\n",
       " 'nppes_provider_country',\n",
       " 'provider_type',\n",
       " 'medicare_participation_indicator',\n",
       " 'place_of_service',\n",
       " 'hcpcs_code',\n",
       " 'hcpcs_description',\n",
       " 'hcpcs_drug_indicator',\n",
       " 'line_srvc_cnt',\n",
       " 'bene_unique_cnt',\n",
       " 'bene_day_srvc_cnt',\n",
       " 'average_Medicare_allowed_amt',\n",
       " 'average_submitted_chrg_amt',\n",
       " 'average_Medicare_payment_amt',\n",
       " 'average_Medicare_standard_amt']"
      ]
     },
     "execution_count": 25,
     "metadata": {},
     "output_type": "execute_result"
    }
   ],
   "source": [
    "colnames = medicarePUF1.columns.tolist()\n",
    "colnames"
   ]
  },
  {
   "cell_type": "code",
   "execution_count": 49,
   "metadata": {
    "collapsed": false
   },
   "outputs": [
    {
     "ename": "SyntaxError",
     "evalue": "unexpected EOF while parsing (<ipython-input-49-c5cd09882fa8>, line 3)",
     "output_type": "error",
     "traceback": [
      "\u001b[0;36m  File \u001b[0;32m\"<ipython-input-49-c5cd09882fa8>\"\u001b[0;36m, line \u001b[0;32m3\u001b[0m\n\u001b[0;31m    update = (col,str(medicarePUF1[col][i])\u001b[0m\n\u001b[0m                                                      ^\u001b[0m\n\u001b[0;31mSyntaxError\u001b[0m\u001b[0;31m:\u001b[0m unexpected EOF while parsing\n"
     ]
    }
   ],
   "source": [
    "def PUFtoJSON(i):\n",
    "    for col in colnames:\n",
    "        update = (col,str(medicarePUF1[col][i])           "
   ]
  },
  {
   "cell_type": "code",
   "execution_count": 64,
   "metadata": {
    "collapsed": false
   },
   "outputs": [],
   "source": [
    "def PUFtoJSON(i):\n",
    "    values = []\n",
    "    for col in colnames:\n",
    "        entry = str(medicarePUF1[col][i])\n",
    "        values.append(entry)\n",
    "    record = dict(zip(colnames,values))\n",
    "#    print(record)      "
   ]
  },
  {
   "cell_type": "code",
   "execution_count": 65,
   "metadata": {
    "collapsed": false
   },
   "outputs": [
    {
     "name": "stdout",
     "output_type": "stream",
     "text": [
      "{'nppes_provider_street1': '900 SETON DR', 'medicare_participation_indicator': 'Y', 'nppes_provider_first_name': 'ARDALAN', 'nppes_provider_mi': 'nan', 'npi': '1003000126', 'hcpcs_description': 'Initial hospital inpatient care, typically 70 minutes per day', 'nppes_provider_gender': 'M', 'average_Medicare_standard_amt': '153.30683673', 'average_Medicare_payment_amt': '152.55122449', 'nppes_entity_code': 'I', 'nppes_provider_state': 'MD', 'average_submitted_chrg_amt': '611.0', 'nppes_provider_street2': 'nan', 'bene_unique_cnt': '98', 'hcpcs_drug_indicator': 'N', 'bene_day_srvc_cnt': '98', 'nppes_credentials': 'M.D.', 'nppes_provider_last_org_name': 'ENKESHAFI', 'hcpcs_code': '99223', 'nppes_provider_zip': '215021854', 'provider_type': 'Internal Medicine', 'place_of_service': 'F', 'nppes_provider_city': 'CUMBERLAND', 'nppes_provider_country': 'US', 'line_srvc_cnt': '98.0', 'average_Medicare_allowed_amt': '207.79'}\n"
     ]
    }
   ],
   "source": [
    "PUFtoJSON(1)"
   ]
  },
  {
   "cell_type": "code",
   "execution_count": null,
   "metadata": {
    "collapsed": true
   },
   "outputs": [],
   "source": []
  }
 ],
 "metadata": {
  "kernelspec": {
   "display_name": "Python [default]",
   "language": "python",
   "name": "python3"
  },
  "language_info": {
   "codemirror_mode": {
    "name": "ipython",
    "version": 3
   },
   "file_extension": ".py",
   "mimetype": "text/x-python",
   "name": "python",
   "nbconvert_exporter": "python",
   "pygments_lexer": "ipython3",
   "version": "3.5.2"
  }
 },
 "nbformat": 4,
 "nbformat_minor": 2
}
