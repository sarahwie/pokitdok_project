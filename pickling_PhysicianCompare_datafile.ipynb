{
 "cells": [
  {
   "cell_type": "code",
   "execution_count": 1,
   "metadata": {
    "collapsed": true
   },
   "outputs": [],
   "source": [
    "import json\n",
    "import pprint\n",
    "import csv\n",
    "import pickle\n",
    "import datetime\n",
    "import sPickle"
   ]
  },
  {
   "cell_type": "code",
   "execution_count": 2,
   "metadata": {
    "collapsed": false
   },
   "outputs": [
    {
     "name": "stdout",
     "output_type": "stream",
     "text": [
      "0:00:31\n"
     ]
    }
   ],
   "source": [
    "#read in new csv file\n",
    "a = datetime.datetime.now().replace(microsecond=0)\n",
    "\n",
    "with open(\"/mnt/mypartition/pokitdok_project/Physician_Compare_National_Downloadable_File.csv\", \"r\") as f:\n",
    "    reader = csv.reader(f)\n",
    "    \n",
    "    data = list(list(rec) for rec in csv.reader(f, delimiter=',')) #reads csv into a list of lists\n",
    "    \n",
    "b = datetime.datetime.now().replace(microsecond=0)\n",
    "print(b-a)"
   ]
  },
  {
   "cell_type": "code",
   "execution_count": 3,
   "metadata": {
    "collapsed": false
   },
   "outputs": [
    {
     "name": "stdout",
     "output_type": "stream",
     "text": [
      "0:00:17\n"
     ]
    }
   ],
   "source": [
    "a = datetime.datetime.now().replace(microsecond=0)\n",
    "#NOTE: regular pickle fails bc of memory error. use streaming-pickle.\n",
    "\n",
    "pickle.dump( data, open( \"/mnt/mypartition/pokitdok_project/data.p\", \"wb\" ) )\n",
    "\n",
    "#sPickle.s_dump( the_data, open( \"/mnt/mypartition/pokitdok_project/the_data.spkl\", \"w\" ) )\n",
    "\n",
    "b = datetime.datetime.now().replace(microsecond=0)\n",
    "print(b-a)"
   ]
  },
  {
   "cell_type": "code",
   "execution_count": 4,
   "metadata": {
    "collapsed": false
   },
   "outputs": [
    {
     "name": "stdout",
     "output_type": "stream",
     "text": [
      "['1821199704', '9739343922', 'I20120620000327', 'SMITH', 'WILLIAM', 'A', '', 'M', '', 'PALMER COLLEGE CHIROPRACTIC -  WEST SUNNYVALE', '1980', 'CHIROPRACTIC', '', '', '', '', '', '', '', '', '3904 TUSCARAWAS ST W', 'MELLETT PLAZA', '', 'CANTON', 'OH', '447085549', '3304771339', '', '', '', '', '', '', '', '', '', '', 'M', '', '', '', '']\n"
     ]
    }
   ],
   "source": [
    "print(data[1])"
   ]
  }
 ],
 "metadata": {
  "anaconda-cloud": {},
  "kernelspec": {
   "display_name": "Python 3",
   "language": "python",
   "name": "python3"
  },
  "language_info": {
   "codemirror_mode": {
    "name": "ipython",
    "version": 3
   },
   "file_extension": ".py",
   "mimetype": "text/x-python",
   "name": "python",
   "nbconvert_exporter": "python",
   "pygments_lexer": "ipython3",
   "version": "3.5.2"
  }
 },
 "nbformat": 4,
 "nbformat_minor": 1
}
