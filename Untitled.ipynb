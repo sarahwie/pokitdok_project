{
 "cells": [
  {
   "cell_type": "code",
   "execution_count": 13,
   "metadata": {
    "collapsed": true
   },
   "outputs": [],
   "source": [
    "import json\n",
    "import pprint\n",
    "import csv\n",
    "import pickle\n",
    "import datetime\n",
    "import pandas as pd\n",
    "import numpy as np"
   ]
  },
  {
   "cell_type": "code",
   "execution_count": 8,
   "metadata": {
    "collapsed": false
   },
   "outputs": [
    {
     "name": "stdout",
     "output_type": "stream",
     "text": [
      "0:00:16\n"
     ]
    }
   ],
   "source": [
    "a = datetime.datetime.now().replace(microsecond=0)\n",
    "\n",
    "with open(\"/mnt/mypartition/pokitdok_project/NEWsubset.jsonl\", 'r') as f:\n",
    "    the_data = [json.loads(l) for l in f]\n",
    "    \n",
    "b = datetime.datetime.now().replace(microsecond=0)\n",
    "print(b-a)"
   ]
  },
  {
   "cell_type": "code",
   "execution_count": 14,
   "metadata": {
    "collapsed": false
   },
   "outputs": [
    {
     "data": {
      "text/plain": [
       "50000"
      ]
     },
     "execution_count": 14,
     "metadata": {},
     "output_type": "execute_result"
    }
   ],
   "source": [
    "len(the_data)"
   ]
  },
  {
   "cell_type": "code",
   "execution_count": 15,
   "metadata": {
    "collapsed": false
   },
   "outputs": [
    {
     "data": {
      "text/plain": [
       "{u'MedicarePUF2': None,\n",
       " u'awards': None,\n",
       " u'board_certs': [{u'CERTIFYING BOARD': u'AMERICAN BOARD OF ORTHOPAEDIC SURGERY',\n",
       "   u'SPECIALTY/SUBSPECIALTY': u'ORTHOPAEDIC'}],\n",
       " u'criminal_history': None,\n",
       " u'degree': u'MD',\n",
       " u'disciplinary_history': None,\n",
       " u'entity_type': u'individual',\n",
       " u'enumeration_date': u'2005-05-23T00:00:00',\n",
       " u'faculty_appts': None,\n",
       " u'fax': u'7704296503',\n",
       " u'first_name': u'STANLEY',\n",
       " u'full_name': u'STANLEY H DYSART',\n",
       " u'gender': u'Male',\n",
       " u'grad_year': u'1981',\n",
       " u'hospital_privileges': [{u'Hospital': u'Advanced Surgery Center'},\n",
       "  {u'Hospital': u'Marietta Surgical Center'},\n",
       "  {u'Hospital': u'Wellstar Kennestone Hospital'}],\n",
       " u'is_sole_proprietor': u'N',\n",
       " u'languages': None,\n",
       " u'last_name': u'DYSART',\n",
       " u'last_update_date': u'2013-12-05T00:00:00',\n",
       " u'licenses': [{u'number': u'031591', u'state': u'GA'}],\n",
       " u'locations': [{u'address_lines': [u'300 Tower Rd Ne', u'Ste 200'],\n",
       "   u'city': u'Marietta',\n",
       "   u'country': u'US',\n",
       "   u'fax': u'7704296503',\n",
       "   u'md5hash': u'69eacd04e09f7a8cb1e01b06ca4c8505',\n",
       "   u'phone': u'7704275717',\n",
       "   u'role': [u'mailing', u'practice'],\n",
       "   u'state': u'GA',\n",
       "   u'zipcode': u'300609403'}],\n",
       " u'malpractice_awards': None,\n",
       " u'malpractice_settlements': None,\n",
       " u'med_school': [{u'From Date ': u'07/01/1977',\n",
       "   u'Graduation Date': u'06/01/1981',\n",
       "   u'School Name': u'MEDICAL COLLEGE OF GEORGIA',\n",
       "   u'To Date ': u'06/01/1981'}],\n",
       " u'medicare_info': [{u'average_Medicare_allowed_amt': u'60.280754717',\n",
       "   u'average_Medicare_payment_amt': u'46.16509434',\n",
       "   u'average_Medicare_standard_amt': u'47.163018868',\n",
       "   u'average_submitted_chrg_amt': u'164.0',\n",
       "   u'bene_day_srvc_cnt': u'49',\n",
       "   u'bene_unique_cnt': u'48',\n",
       "   u'hcpcs_code': u'20551',\n",
       "   u'hcpcs_description': u'Injections of tendon attachment to bone',\n",
       "   u'hcpcs_drug_indicator': u'N',\n",
       "   u'line_srvc_cnt': u'53.0'},\n",
       "  {u'average_Medicare_allowed_amt': u'51.5852',\n",
       "   u'average_Medicare_payment_amt': u'38.6848',\n",
       "   u'average_Medicare_standard_amt': u'40.7504',\n",
       "   u'average_submitted_chrg_amt': u'151.0',\n",
       "   u'bene_day_srvc_cnt': u'25',\n",
       "   u'bene_unique_cnt': u'24',\n",
       "   u'hcpcs_code': u'20552',\n",
       "   u'hcpcs_description': u'Injections of trigger points in 1 or 2 muscles',\n",
       "   u'hcpcs_drug_indicator': u'N',\n",
       "   u'line_srvc_cnt': u'25.0'},\n",
       "  {u'average_Medicare_allowed_amt': u'41.1225',\n",
       "   u'average_Medicare_payment_amt': u'32.24',\n",
       "   u'average_Medicare_standard_amt': u'32.17875',\n",
       "   u'average_submitted_chrg_amt': u'168.0',\n",
       "   u'bene_day_srvc_cnt': u'16',\n",
       "   u'bene_unique_cnt': u'16',\n",
       "   u'hcpcs_code': u'20605',\n",
       "   u'hcpcs_description': u'Aspiration and/or injection of medium joint or joint capsule',\n",
       "   u'hcpcs_drug_indicator': u'N',\n",
       "   u'line_srvc_cnt': u'16.0'},\n",
       "  {u'average_Medicare_allowed_amt': u'24.010967742',\n",
       "   u'average_Medicare_payment_amt': u'18.52',\n",
       "   u'average_Medicare_standard_amt': u'18.530483871',\n",
       "   u'average_submitted_chrg_amt': u'214.0',\n",
       "   u'bene_day_srvc_cnt': u'44',\n",
       "   u'bene_unique_cnt': u'33',\n",
       "   u'hcpcs_code': u'20610',\n",
       "   u'hcpcs_description': u'Aspiration and/or injection of large joint or joint capsule',\n",
       "   u'hcpcs_drug_indicator': u'N',\n",
       "   u'line_srvc_cnt': u'62.0'},\n",
       "  {u'average_Medicare_allowed_amt': u'53.619',\n",
       "   u'average_Medicare_payment_amt': u'41.04472',\n",
       "   u'average_Medicare_standard_amt': u'37.447613333',\n",
       "   u'average_submitted_chrg_amt': u'214.71333333',\n",
       "   u'bene_day_srvc_cnt': u'1132',\n",
       "   u'bene_unique_cnt': u'421',\n",
       "   u'hcpcs_code': u'20610',\n",
       "   u'hcpcs_description': u'Aspiration and/or injection of large joint or joint capsule',\n",
       "   u'hcpcs_drug_indicator': u'N',\n",
       "   u'line_srvc_cnt': u'1500.0'},\n",
       "  {u'average_Medicare_allowed_amt': u'72.37',\n",
       "   u'average_Medicare_payment_amt': u'55.170454545',\n",
       "   u'average_Medicare_standard_amt': u'55.160681818',\n",
       "   u'average_submitted_chrg_amt': u'604.0',\n",
       "   u'bene_day_srvc_cnt': u'44',\n",
       "   u'bene_unique_cnt': u'32',\n",
       "   u'hcpcs_code': u'27093',\n",
       "   u'hcpcs_description': u'Injection of dye for X-ray imaging of hip joint',\n",
       "   u'hcpcs_drug_indicator': u'N',\n",
       "   u'line_srvc_cnt': u'44.0'},\n",
       "  {u'average_Medicare_allowed_amt': u'1383.672',\n",
       "   u'average_Medicare_payment_amt': u'1071.868',\n",
       "   u'average_Medicare_standard_amt': u'1091.6735556',\n",
       "   u'average_submitted_chrg_amt': u'4712.0',\n",
       "   u'bene_day_srvc_cnt': u'45',\n",
       "   u'bene_unique_cnt': u'45',\n",
       "   u'hcpcs_code': u'27130',\n",
       "   u'hcpcs_description': u'Replacement of thigh bone and hip joint prosthesis',\n",
       "   u'hcpcs_drug_indicator': u'N',\n",
       "   u'line_srvc_cnt': u'45.0'},\n",
       "  {u'average_Medicare_allowed_amt': u'1413.4624096',\n",
       "   u'average_Medicare_payment_amt': u'1105.1754217',\n",
       "   u'average_Medicare_standard_amt': u'1090.0857831',\n",
       "   u'average_submitted_chrg_amt': u'4519.6626506',\n",
       "   u'bene_day_srvc_cnt': u'83',\n",
       "   u'bene_unique_cnt': u'79',\n",
       "   u'hcpcs_code': u'27447',\n",
       "   u'hcpcs_description': u'Repair of knee joint',\n",
       "   u'hcpcs_drug_indicator': u'N',\n",
       "   u'line_srvc_cnt': u'83.0'},\n",
       "  {u'average_Medicare_allowed_amt': u'37.1',\n",
       "   u'average_Medicare_payment_amt': u'28.678518519',\n",
       "   u'average_Medicare_standard_amt': u'29.066851852',\n",
       "   u'average_submitted_chrg_amt': u'114.0',\n",
       "   u'bene_day_srvc_cnt': u'54',\n",
       "   u'bene_unique_cnt': u'52',\n",
       "   u'hcpcs_code': u'72040',\n",
       "   u'hcpcs_description': u'X-ray of spine of neck, 2 or 3 views',\n",
       "   u'hcpcs_drug_indicator': u'N',\n",
       "   u'line_srvc_cnt': u'54.0'},\n",
       "  {u'average_Medicare_allowed_amt': u'34.62',\n",
       "   u'average_Medicare_payment_amt': u'25.132142857',\n",
       "   u'average_Medicare_standard_amt': u'24.965',\n",
       "   u'average_submitted_chrg_amt': u'109.0',\n",
       "   u'bene_day_srvc_cnt': u'14',\n",
       "   u'bene_unique_cnt': u'14',\n",
       "   u'hcpcs_code': u'72070',\n",
       "   u'hcpcs_description': u'X-ray of middle spine, 3 views',\n",
       "   u'hcpcs_drug_indicator': u'N',\n",
       "   u'line_srvc_cnt': u'14.0'},\n",
       "  {u'average_Medicare_allowed_amt': u'36.86247619',\n",
       "   u'average_Medicare_payment_amt': u'26.997619048',\n",
       "   u'average_Medicare_standard_amt': u'28.020952381',\n",
       "   u'average_submitted_chrg_amt': u'119.6',\n",
       "   u'bene_day_srvc_cnt': u'210',\n",
       "   u'bene_unique_cnt': u'201',\n",
       "   u'hcpcs_code': u'72100',\n",
       "   u'hcpcs_description': u'X-ray of lower and sacral spine, 2 or 3 views',\n",
       "   u'hcpcs_drug_indicator': u'N',\n",
       "   u'line_srvc_cnt': u'210.0'},\n",
       "  {u'average_Medicare_allowed_amt': u'156.38',\n",
       "   u'average_Medicare_payment_amt': u'110.39416667',\n",
       "   u'average_Medicare_standard_amt': u'116.15583333',\n",
       "   u'average_submitted_chrg_amt': u'1497.0',\n",
       "   u'bene_day_srvc_cnt': u'12',\n",
       "   u'bene_unique_cnt': u'12',\n",
       "   u'hcpcs_code': u'72141',\n",
       "   u'hcpcs_description': u'MRI scan of upper spinal canal',\n",
       "   u'hcpcs_drug_indicator': u'N',\n",
       "   u'line_srvc_cnt': u'12.0'},\n",
       "  {u'average_Medicare_allowed_amt': u'169.57466667',\n",
       "   u'average_Medicare_payment_amt': u'121.15733333',\n",
       "   u'average_Medicare_standard_amt': u'119.85333333',\n",
       "   u'average_submitted_chrg_amt': u'1602.0',\n",
       "   u'bene_day_srvc_cnt': u'45',\n",
       "   u'bene_unique_cnt': u'45',\n",
       "   u'hcpcs_code': u'72148',\n",
       "   u'hcpcs_description': u'MRI scan of lower spinal canal',\n",
       "   u'hcpcs_drug_indicator': u'N',\n",
       "   u'line_srvc_cnt': u'45.0'},\n",
       "  {u'average_Medicare_allowed_amt': u'29.38328125',\n",
       "   u'average_Medicare_payment_amt': u'21.860223214',\n",
       "   u'average_Medicare_standard_amt': u'22.178013393',\n",
       "   u'average_submitted_chrg_amt': u'85.328125',\n",
       "   u'bene_day_srvc_cnt': u'448',\n",
       "   u'bene_unique_cnt': u'309',\n",
       "   u'hcpcs_code': u'72170',\n",
       "   u'hcpcs_description': u'X-ray of pelvis, 1 or 2 views',\n",
       "   u'hcpcs_drug_indicator': u'N',\n",
       "   u'line_srvc_cnt': u'448.0'},\n",
       "  {u'average_Medicare_allowed_amt': u'31.895142857',\n",
       "   u'average_Medicare_payment_amt': u'24.538571429',\n",
       "   u'average_Medicare_standard_amt': u'24.780714286',\n",
       "   u'average_submitted_chrg_amt': u'95.52',\n",
       "   u'bene_day_srvc_cnt': u'127',\n",
       "   u'bene_unique_cnt': u'103',\n",
       "   u'hcpcs_code': u'73030',\n",
       "   u'hcpcs_description': u'X-ray of shoulder, minimum of 2 views',\n",
       "   u'hcpcs_drug_indicator': u'N',\n",
       "   u'line_srvc_cnt': u'140.0'},\n",
       "  {u'average_Medicare_allowed_amt': u'34.63',\n",
       "   u'average_Medicare_payment_amt': u'25.061538462',\n",
       "   u'average_Medicare_standard_amt': u'27.478461538',\n",
       "   u'average_submitted_chrg_amt': u'106.0',\n",
       "   u'bene_day_srvc_cnt': u'13',\n",
       "   u'bene_unique_cnt': u'11',\n",
       "   u'hcpcs_code': u'73080',\n",
       "   u'hcpcs_description': u'X-ray of elbow, minimum of 3 views',\n",
       "   u'hcpcs_drug_indicator': u'N',\n",
       "   u'line_srvc_cnt': u'13.0'},\n",
       "  {u'average_Medicare_allowed_amt': u'38.97',\n",
       "   u'average_Medicare_payment_amt': u'29.0385',\n",
       "   u'average_Medicare_standard_amt': u'28.823',\n",
       "   u'average_submitted_chrg_amt': u'103.0',\n",
       "   u'bene_day_srvc_cnt': u'20',\n",
       "   u'bene_unique_cnt': u'14',\n",
       "   u'hcpcs_code': u'73110',\n",
       "   u'hcpcs_description': u'X-ray of wrist, minimum of 3 views',\n",
       "   u'hcpcs_drug_indicator': u'N',\n",
       "   u'line_srvc_cnt': u'20.0'},\n",
       "  {u'average_Medicare_allowed_amt': u'33.91',\n",
       "   u'average_Medicare_payment_amt': u'25.2605',\n",
       "   u'average_Medicare_standard_amt': u'25.08',\n",
       "   u'average_submitted_chrg_amt': u'97.0',\n",
       "   u'bene_day_srvc_cnt': u'20',\n",
       "   u'bene_unique_cnt': u'19',\n",
       "   u'hcpcs_code': u'73130',\n",
       "   u'hcpcs_description': u'X-ray of hand, minimum of 3 views',\n",
       "   u'hcpcs_drug_indicator': u'N',\n",
       "   u'line_srvc_cnt': u'20.0'},\n",
       "  {u'average_Medicare_allowed_amt': u'191.34892857',\n",
       "   u'average_Medicare_payment_amt': u'128.66928571',\n",
       "   u'average_Medicare_standard_amt': u'133.46571429',\n",
       "   u'average_submitted_chrg_amt': u'1423.9285714',\n",
       "   u'bene_day_srvc_cnt': u'28',\n",
       "   u'bene_unique_cnt': u'27',\n",
       "   u'hcpcs_code': u'73221',\n",
       "   u'hcpcs_description': u'MRI scan of arm joint',\n",
       "   u'hcpcs_drug_indicator': u'N',\n",
       "   u'line_srvc_cnt': u'28.0'},\n",
       "  {u'average_Medicare_allowed_amt': u'27.34873494',\n",
       "   u'average_Medicare_payment_amt': u'20.178192771',\n",
       "   u'average_Medicare_standard_amt': u'20.516777108',\n",
       "   u'average_submitted_chrg_amt': u'80.962650602',\n",
       "   u'bene_day_srvc_cnt': u'315',\n",
       "   u'bene_unique_cnt': u'196',\n",
       "   u'hcpcs_code': u'73500',\n",
       "   u'hcpcs_description': u'X-ray of hip on one side of body, 1 view',\n",
       "   u'hcpcs_drug_indicator': u'N',\n",
       "   u'line_srvc_cnt': u'332.0'},\n",
       "  {u'average_Medicare_allowed_amt': u'40.73',\n",
       "   u'average_Medicare_payment_amt': u'30.156111111',\n",
       "   u'average_Medicare_standard_amt': u'32.171111111',\n",
       "   u'average_submitted_chrg_amt': u'112.0',\n",
       "   u'bene_day_srvc_cnt': u'18',\n",
       "   u'bene_unique_cnt': u'18',\n",
       "   u'hcpcs_code': u'73510',\n",
       "   u'hcpcs_description': u'X-ray of ribs of one side of body, minimum of 2 views',\n",
       "   u'hcpcs_drug_indicator': u'N',\n",
       "   u'line_srvc_cnt': u'18.0'},\n",
       "  {u'average_Medicare_allowed_amt': u'31.69',\n",
       "   u'average_Medicare_payment_amt': u'24.42',\n",
       "   u'average_Medicare_standard_amt': u'24.289166667',\n",
       "   u'average_submitted_chrg_amt': u'91.0',\n",
       "   u'bene_day_srvc_cnt': u'12',\n",
       "   u'bene_unique_cnt': u'12',\n",
       "   u'hcpcs_code': u'73560',\n",
       "   u'hcpcs_description': u'X-ray of knee, 1 or 2 views',\n",
       "   u'hcpcs_drug_indicator': u'N',\n",
       "   u'line_srvc_cnt': u'12.0'},\n",
       "  {u'average_Medicare_allowed_amt': u'37.563886926',\n",
       "   u'average_Medicare_payment_amt': u'27.726183746',\n",
       "   u'average_Medicare_standard_amt': u'27.987173145',\n",
       "   u'average_submitted_chrg_amt': u'105.60671378',\n",
       "   u'bene_day_srvc_cnt': u'490',\n",
       "   u'bene_unique_cnt': u'250',\n",
       "   u'hcpcs_code': u'73562',\n",
       "   u'hcpcs_description': u'X-ray of knee, 3 views',\n",
       "   u'hcpcs_drug_indicator': u'N',\n",
       "   u'line_srvc_cnt': u'566.0'},\n",
       "  {u'average_Medicare_allowed_amt': u'44.7',\n",
       "   u'average_Medicare_payment_amt': u'33.938483871',\n",
       "   u'average_Medicare_standard_amt': u'34.154354839',\n",
       "   u'average_submitted_chrg_amt': u'120.0',\n",
       "   u'bene_day_srvc_cnt': u'245',\n",
       "   u'bene_unique_cnt': u'232',\n",
       "   u'hcpcs_code': u'73564',\n",
       "   u'hcpcs_description': u'X-ray of knee, 4 or more views',\n",
       "   u'hcpcs_drug_indicator': u'N',\n",
       "   u'line_srvc_cnt': u'310.0'},\n",
       "  {u'average_Medicare_allowed_amt': u'34.63',\n",
       "   u'average_Medicare_payment_amt': u'27.15',\n",
       "   u'average_Medicare_standard_amt': u'26.963333333',\n",
       "   u'average_submitted_chrg_amt': u'97.0',\n",
       "   u'bene_day_srvc_cnt': u'55',\n",
       "   u'bene_unique_cnt': u'39',\n",
       "   u'hcpcs_code': u'73610',\n",
       "   u'hcpcs_description': u'X-ray of ankle, minimum of 3 views',\n",
       "   u'hcpcs_drug_indicator': u'N',\n",
       "   u'line_srvc_cnt': u'57.0'},\n",
       "  {u'average_Medicare_allowed_amt': u'32.46',\n",
       "   u'average_Medicare_payment_amt': u'24.829268293',\n",
       "   u'average_Medicare_standard_amt': u'24.653658537',\n",
       "   u'average_submitted_chrg_amt': u'97.0',\n",
       "   u'bene_day_srvc_cnt': u'39',\n",
       "   u'bene_unique_cnt': u'33',\n",
       "   u'hcpcs_code': u'73630',\n",
       "   u'hcpcs_description': u'X-ray of foot, minimum of 3 views',\n",
       "   u'hcpcs_drug_indicator': u'N',\n",
       "   u'line_srvc_cnt': u'41.0'},\n",
       "  {u'average_Medicare_allowed_amt': u'186.64324324',\n",
       "   u'average_Medicare_payment_amt': u'136.00891892',\n",
       "   u'average_Medicare_standard_amt': u'134.57837838',\n",
       "   u'average_submitted_chrg_amt': u'1415.0',\n",
       "   u'bene_day_srvc_cnt': u'36',\n",
       "   u'bene_unique_cnt': u'34',\n",
       "   u'hcpcs_code': u'73721',\n",
       "   u'hcpcs_description': u'MRI scan of leg joint',\n",
       "   u'hcpcs_drug_indicator': u'N',\n",
       "   u'line_srvc_cnt': u'37.0'},\n",
       "  {u'average_Medicare_allowed_amt': u'74.56',\n",
       "   u'average_Medicare_payment_amt': u'57.167518248',\n",
       "   u'average_Medicare_standard_amt': u'57.120462287',\n",
       "   u'average_submitted_chrg_amt': u'552.0',\n",
       "   u'bene_day_srvc_cnt': u'359',\n",
       "   u'bene_unique_cnt': u'126',\n",
       "   u'hcpcs_code': u'76942',\n",
       "   u'hcpcs_description': u'Ultrasonic guidance imaging supervision and interpretation for insertion of needle',\n",
       "   u'hcpcs_drug_indicator': u'N',\n",
       "   u'line_srvc_cnt': u'411.0'},\n",
       "  {u'average_Medicare_allowed_amt': u'28.34',\n",
       "   u'average_Medicare_payment_amt': u'21.715',\n",
       "   u'average_Medicare_standard_amt': u'21.685681818',\n",
       "   u'average_submitted_chrg_amt': u'169.75',\n",
       "   u'bene_day_srvc_cnt': u'44',\n",
       "   u'bene_unique_cnt': u'32',\n",
       "   u'hcpcs_code': u'77002',\n",
       "   u'hcpcs_description': u'Fluoroscopic guidance for insertion of needle',\n",
       "   u'hcpcs_drug_indicator': u'N',\n",
       "   u'line_srvc_cnt': u'44.0'},\n",
       "  {u'average_Medicare_allowed_amt': u'38.87',\n",
       "   u'average_Medicare_payment_amt': u'30.48',\n",
       "   u'average_Medicare_standard_amt': u'30.34',\n",
       "   u'average_submitted_chrg_amt': u'113.0',\n",
       "   u'bene_day_srvc_cnt': u'87',\n",
       "   u'bene_unique_cnt': u'80',\n",
       "   u'hcpcs_code': u'77073',\n",
       "   u'hcpcs_description': u'Imaging for bone length assessment',\n",
       "   u'hcpcs_drug_indicator': u'N',\n",
       "   u'line_srvc_cnt': u'87.0'},\n",
       "  {u'average_Medicare_allowed_amt': u'76.2',\n",
       "   u'average_Medicare_payment_amt': u'45.031764706',\n",
       "   u'average_Medicare_standard_amt': u'56.038823529',\n",
       "   u'average_submitted_chrg_amt': u'106.0',\n",
       "   u'bene_day_srvc_cnt': u'17',\n",
       "   u'bene_unique_cnt': u'15',\n",
       "   u'hcpcs_code': u'97001',\n",
       "   u'hcpcs_description': u'Physical therapy evaluation',\n",
       "   u'hcpcs_drug_indicator': u'N',\n",
       "   u'line_srvc_cnt': u'17.0'},\n",
       "  {u'average_Medicare_allowed_amt': u'27.214496644',\n",
       "   u'average_Medicare_payment_amt': u'17.750201342',\n",
       "   u'average_Medicare_standard_amt': u'11.400536913',\n",
       "   u'average_submitted_chrg_amt': u'42.0',\n",
       "   u'bene_day_srvc_cnt': u'149',\n",
       "   u'bene_unique_cnt': u'41',\n",
       "   u'hcpcs_code': u'97110',\n",
       "   u'hcpcs_description': u'Therapeutic exercise to develop strength, endurance, range of motion, and flexibility, each 15 minutes',\n",
       "   u'hcpcs_drug_indicator': u'N',\n",
       "   u'line_srvc_cnt': u'298.0'},\n",
       "  {u'average_Medicare_allowed_amt': u'23.583442623',\n",
       "   u'average_Medicare_payment_amt': u'16.221639344',\n",
       "   u'average_Medicare_standard_amt': u'19.147377049',\n",
       "   u'average_submitted_chrg_amt': u'45.0',\n",
       "   u'bene_day_srvc_cnt': u'58',\n",
       "   u'bene_unique_cnt': u'23',\n",
       "   u'hcpcs_code': u'97140',\n",
       "   u'hcpcs_description': u'Manual (physical) therapy techniques to 1 or more regions, each 15 minutes',\n",
       "   u'hcpcs_drug_indicator': u'N',\n",
       "   u'line_srvc_cnt': u'61.0'},\n",
       "  {u'average_Medicare_allowed_amt': u'108.51',\n",
       "   u'average_Medicare_payment_amt': u'76.444831461',\n",
       "   u'average_Medicare_standard_amt': u'77.90988764',\n",
       "   u'average_submitted_chrg_amt': u'140.0',\n",
       "   u'bene_day_srvc_cnt': u'178',\n",
       "   u'bene_unique_cnt': u'178',\n",
       "   u'hcpcs_code': u'99203',\n",
       "   u'hcpcs_description': u'New patient office or other outpatient visit, typically 30 minutes',\n",
       "   u'hcpcs_drug_indicator': u'N',\n",
       "   u'line_srvc_cnt': u'178.0'},\n",
       "  {u'average_Medicare_allowed_amt': u'43.89',\n",
       "   u'average_Medicare_payment_amt': u'30.260616114',\n",
       "   u'average_Medicare_standard_amt': u'30.613507109',\n",
       "   u'average_submitted_chrg_amt': u'60.0',\n",
       "   u'bene_day_srvc_cnt': u'211',\n",
       "   u'bene_unique_cnt': u'184',\n",
       "   u'hcpcs_code': u'99212',\n",
       "   u'hcpcs_description': u'Established patient office or other outpatient visit, typically 10 minutes',\n",
       "   u'hcpcs_drug_indicator': u'N',\n",
       "   u'line_srvc_cnt': u'211.0'},\n",
       "  {u'average_Medicare_allowed_amt': u'73.34',\n",
       "   u'average_Medicare_payment_amt': u'54.100077849',\n",
       "   u'average_Medicare_standard_amt': u'54.58831564',\n",
       "   u'average_submitted_chrg_amt': u'92.312809625',\n",
       "   u'bene_day_srvc_cnt': u'1413',\n",
       "   u'bene_unique_cnt': u'671',\n",
       "   u'hcpcs_code': u'99213',\n",
       "   u'hcpcs_description': u'Established patient office or other outpatient visit, typically 15 minutes',\n",
       "   u'hcpcs_drug_indicator': u'N',\n",
       "   u'line_srvc_cnt': u'1413.0'},\n",
       "  {u'average_Medicare_allowed_amt': u'108.19',\n",
       "   u'average_Medicare_payment_amt': u'81.339184783',\n",
       "   u'average_Medicare_standard_amt': u'82.53048913',\n",
       "   u'average_submitted_chrg_amt': u'140.0',\n",
       "   u'bene_day_srvc_cnt': u'184',\n",
       "   u'bene_unique_cnt': u'168',\n",
       "   u'hcpcs_code': u'99214',\n",
       "   u'hcpcs_description': u'Established patient office or other outpatient, visit typically 25 minutes',\n",
       "   u'hcpcs_drug_indicator': u'N',\n",
       "   u'line_srvc_cnt': u'184.0'},\n",
       "  {u'average_Medicare_allowed_amt': u'53.6',\n",
       "   u'average_Medicare_payment_amt': u'41.373538462',\n",
       "   u'average_Medicare_standard_amt': u'41.208769231',\n",
       "   u'average_submitted_chrg_amt': u'181.0',\n",
       "   u'bene_day_srvc_cnt': u'65',\n",
       "   u'bene_unique_cnt': u'60',\n",
       "   u'hcpcs_code': u'G0180',\n",
       "   u'hcpcs_description': u'Physician certification for medicare-covered home health  services under a home health plan of care (patient not present), including contacts with home health agency and review of reports of patient status required by physicians to affirm the initial imple',\n",
       "   u'hcpcs_drug_indicator': u'N',\n",
       "   u'line_srvc_cnt': u'65.0'},\n",
       "  {u'average_Medicare_allowed_amt': u'2.9861455108',\n",
       "   u'average_Medicare_payment_amt': u'2.2775541796',\n",
       "   u'average_Medicare_standard_amt': u'2.2775541796',\n",
       "   u'average_submitted_chrg_amt': u'15.0',\n",
       "   u'bene_day_srvc_cnt': u'526',\n",
       "   u'bene_unique_cnt': u'391',\n",
       "   u'hcpcs_code': u'J1030',\n",
       "   u'hcpcs_description': u'Injection, methylprednisolone acetate, 40 mg',\n",
       "   u'hcpcs_drug_indicator': u'Y',\n",
       "   u'line_srvc_cnt': u'646.0'},\n",
       "  {u'average_Medicare_allowed_amt': u'157.19463389',\n",
       "   u'average_Medicare_payment_amt': u'122.68046025',\n",
       "   u'average_Medicare_standard_amt': u'122.68046025',\n",
       "   u'average_submitted_chrg_amt': u'250.0',\n",
       "   u'bene_day_srvc_cnt': u'670',\n",
       "   u'bene_unique_cnt': u'191',\n",
       "   u'hcpcs_code': u'J7323',\n",
       "   u'hcpcs_description': u'Hyaluronan or derivative, euflexxa, for intra-articular injection, per dose',\n",
       "   u'hcpcs_drug_indicator': u'Y',\n",
       "   u'line_srvc_cnt': u'956.0'}],\n",
       " u'middle_name': u'H',\n",
       " u'npi': u'1578566527',\n",
       " u'organizations': [u'American College of Physician Executives'],\n",
       " u'other_med_schools': None,\n",
       " u'other_provider_identifiers': [{u'id': u'E80424',\n",
       "   u'state': u'GA',\n",
       "   u'type': u'MEDICARE UPIN'},\n",
       "  {u'id': u'20BBCZL',\n",
       "   u'state': u'GA',\n",
       "   u'type': u'MEDICARE ID-TYPE UNSPECIFIED'}],\n",
       " u'phone': u'7704275717',\n",
       " u'postgrad_training': [{u' City': u'BOSTON',\n",
       "   u' Country': u'US',\n",
       "   u' From': u'07/01/1990',\n",
       "   u' State': u'MA',\n",
       "   u' To': u'06/01/1991',\n",
       "   u'Graduate Medical Education': u\"BRIGHAM & WOMEN'S HOSP.HARVARD\"},\n",
       "  {u' City': u'WASHINGTON',\n",
       "   u' Country': u'US',\n",
       "   u' From': u'07/01/1984',\n",
       "   u' State': u'DC',\n",
       "   u' To': u'06/01/1988',\n",
       "   u'Graduate Medical Education': u'WALTER REED ARMY MED. CTR.'},\n",
       "  {u' City': u'AURORA',\n",
       "   u' Country': u'US',\n",
       "   u' From': u'07/01/1981',\n",
       "   u' State': u'CO',\n",
       "   u' To': u'06/01/1982',\n",
       "   u'Graduate Medical Education': u'FITZSIMMONS ARMY MED. CTR.'}],\n",
       " u'privileges_revoked': None,\n",
       " u'provenance': [{u'date': u'2017-01-08', u'mapping_module': u'nppes_npi'}],\n",
       " u'publications': [u'The Uncemented Porous-Coated Anatomic Total Hip Prosthesis',\n",
       "  u'Nonoperative Treatment of a Postoperative Fracture',\n",
       "  u'Assessing the results of hip replacement',\n",
       "  u'Evaluation of the learning curve associated with uncemented'],\n",
       " u'specialty': [{u'classification': u'Orthopaedic Surgery',\n",
       "   u'code': u'207X00000X'}],\n",
       " u'specialty_primary': [u'Orthopaedic Surgery'],\n",
       " u'taxonomy_codes': [u'207X00000X']}"
      ]
     },
     "execution_count": 15,
     "metadata": {},
     "output_type": "execute_result"
    }
   ],
   "source": [
    "the_data[17]"
   ]
  },
  {
   "cell_type": "markdown",
   "metadata": {},
   "source": [
    "### Build arrays for each feature being 'competed' on:"
   ]
  },
  {
   "cell_type": "code",
   "execution_count": 16,
   "metadata": {
    "collapsed": true
   },
   "outputs": [],
   "source": [
    "#get average score per physician for all services provided\n",
    "avg_service_scores = []\n",
    "for i in the_data:\n",
    "    if i['MedicarePUF2'] is not None:\n",
    "        sum = 0\n",
    "        cnt = 0\n",
    "        for j in list(i['MedicarePUF2'][0].keys()):\n",
    "            if j != 'PAC ID':\n",
    "                sum = sum + float(i['MedicarePUF2'][0][j])\n",
    "                cnt = cnt + 1\n",
    "        avg_service_scores.append(sum/cnt)\n",
    "    else:\n",
    "        avg_service_scores.append(None)"
   ]
  },
  {
   "cell_type": "code",
   "execution_count": 17,
   "metadata": {
    "collapsed": false
   },
   "outputs": [
    {
     "name": "stdout",
     "output_type": "stream",
     "text": [
      "50000\n",
      "[None, None, None, None, None, None, None, None, None, None, None, None, None, None, None, None, None, None, None, None, None, None, None, None, None, None, None, None, None, None, None, None, None, None, 100.0, None, None, None, None, None, None, None, None, None, None, None, None, None, None, None, None, None, None, 100.0, None, None, None, None, None, None, None, None, 100.0, None, None, None, None, None, None, None]\n"
     ]
    }
   ],
   "source": [
    "print(len(avg_service_scores))\n",
    "print(avg_service_scores[0:70])"
   ]
  },
  {
   "cell_type": "code",
   "execution_count": 18,
   "metadata": {
    "collapsed": true
   },
   "outputs": [],
   "source": [
    "#calculate average cost of medicare values\n",
    "avg_medicare_payments_ratio = []\n",
    "avg_remaining_charge = []\n",
    "for i in the_data:\n",
    "    if i['medicare_info'] is not None:\n",
    "        sum = 0\n",
    "        subVal = 0\n",
    "        cnt = 0\n",
    "        for j in i['medicare_info']:\n",
    "            sum = sum + float(j['average_Medicare_payment_amt'])/float(j['average_Medicare_allowed_amt'])\n",
    "            subVal = subVal + (float(j['average_submitted_chrg_amt'])-float(j['average_Medicare_payment_amt']))\n",
    "            cnt = cnt + 1\n",
    "        avg_medicare_payments_ratio.append(sum/cnt)\n",
    "        avg_remaining_charge.append(subVal/cnt)\n",
    "    else:\n",
    "        avg_medicare_payments_ratio.append(None)\n",
    "        avg_remaining_charge.append(None)"
   ]
  },
  {
   "cell_type": "code",
   "execution_count": 19,
   "metadata": {
    "collapsed": false
   },
   "outputs": [
    {
     "name": "stdout",
     "output_type": "stream",
     "text": [
      "50000\n",
      "[None, 0.7607986334680943, 0.7316345142817101, 0.763946029448884, 0.7206133359797833, None, 0.7089479545073297, None, 0.6848292142049018, 0.8534425461383406, None, 0.6824084995737315, 0.8497262771215214, 0.6950165747964794, 0.7786093086179764, 0.7237060469972527, None, 0.7419283153957987, 0.8059859377319896, 0.8762172267245046, 0.7505428859976081, None, None, 0.8136703447872986, 0.7839797142090944, 0.6731099860085346, 0.7574993783052845, None, 0.7317050190907616, None, None, 0.8083574512760099, 0.7839909168322453, None, 0.8110699436564252, 0.721398759084362, 0.7863499976672353, 0.9802073515551367, 0.8627604916882776, None, None, 0.7391469070853139, None, None, 0.7814233373134503, 0.7352861265911523, 0.8281076167861301, 0.7840257460503218, 0.731283439986044, 0.7634017993785298, 0.7831339054650087, 0.7600381241321935, None, 0.8444985033663867, None, 0.8777147493765645, None, None, 0.7170632847258726, 0.7283372353581191, None, 0.801868808773177, 0.7049257231767025, None, None, None, 0.8719113118006557, 0.791381811648039, 0.7459215856425392, None]\n"
     ]
    }
   ],
   "source": [
    "print(len(avg_medicare_payments_ratio))\n",
    "print(avg_medicare_payments_ratio[0:70])"
   ]
  },
  {
   "cell_type": "code",
   "execution_count": 20,
   "metadata": {
    "collapsed": false
   },
   "outputs": [
    {
     "name": "stdout",
     "output_type": "stream",
     "text": [
      "50000\n",
      "[None, 178.31978378668148, 123.56737713549786, 246.28769481816667, 114.95739049301365, None, 61.70088331783077, None, 51.393206844999995, 43.9705555555, None, 278.9432949228916, 90.61044800971223, 50.913672634475006, 591.7689090798749, 572.9551483474444, None, 405.68696047656, 197.62019230775002, 103.51182943783729, 197.9689838266, None, None, 47.19311428580001, 1136.9849485642858, 33.33381277066667, 104.72351056448461, None, 311.1424508332274, None, None, 41.0341029479, 104.07999999999998, None, 45.531351711304346, 455.40723128073006, 195.7889671232889, 20.6, 27.560291283866672, None, None, 116.02164370192857, None, None, 48.99234821861817, 885.6061798819999, 207.91355759603516, 160.01, 79.64136814286154, 629.3222448949999, 276.74632292966663, 38.30300911333334, None, 45.117225257577786, None, 26.635922619000002, None, None, 94.1849520539125, 396.35772241833325, None, 54.519107740946154, 151.2074600134308, None, None, None, 30.429466666666666, 108.36954689726664, 127.556761283, None]\n"
     ]
    }
   ],
   "source": [
    "print(len(avg_remaining_charge))\n",
    "print(avg_remaining_charge[0:70])"
   ]
  },
  {
   "cell_type": "code",
   "execution_count": 21,
   "metadata": {
    "collapsed": true
   },
   "outputs": [],
   "source": [
    "#get number of medicare services with billings provided\n",
    "num_medicare_specs = []\n",
    "\n",
    "for i in the_data:\n",
    "    if i['medicare_info'] is not None:\n",
    "        num_medicare_specs.append(len(i['medicare_info']))\n",
    "    else:\n",
    "        num_medicare_specs.append(None)"
   ]
  },
  {
   "cell_type": "code",
   "execution_count": 22,
   "metadata": {
    "collapsed": false
   },
   "outputs": [
    {
     "name": "stdout",
     "output_type": "stream",
     "text": [
      "50000\n",
      "[None, 27, 95, 6, 22, None, 13, None, 2, 4, None, 12, 49, 4, 8, 9, None, 40, 4, 51, 10, None, None, 5, 7, 3, 13, None, 22, None, None, 9, 1, None, 23, 20, 18, 1, 15, None, None, 14, None, None, 11, 5, 54, 1, 13, 2, 6, 6, None, 18, None, 7, None, None, 16, 3, None, 13, 13, None, None, None, 3, 9, 7, None]\n"
     ]
    }
   ],
   "source": [
    "print(len(num_medicare_specs))\n",
    "print(num_medicare_specs[0:70])"
   ]
  },
  {
   "cell_type": "code",
   "execution_count": 23,
   "metadata": {
    "collapsed": true
   },
   "outputs": [],
   "source": [
    "#get number of other provider identifiers\n",
    "other_provider_ids = []\n",
    "\n",
    "for i in the_data:\n",
    "    if 'other_provider_identifiers' in i:\n",
    "        other_provider_ids.append(len(i['other_provider_identifiers']))\n",
    "    else:\n",
    "        other_provider_ids.append(None)"
   ]
  },
  {
   "cell_type": "code",
   "execution_count": 24,
   "metadata": {
    "collapsed": false
   },
   "outputs": [
    {
     "name": "stdout",
     "output_type": "stream",
     "text": [
      "50000\n",
      "[6, 11, 2, 5, 14, 1, 1, 2, 4, 2, 2, 10, 7, 3, 8, 2, None, 2, 2, 2, 3, 4, 1, 6, None, 3, 2, None, 7, 7, None, 5, 2, None, 3, 9, 3, 2, 3, 2, 2, 3, None, None, 3, 3, 3, 3, 3, 5, 4, 2, 3, 3, 3, 1, 7, 1, 7, 4, 4, 8, 5, 2, 2, None, 1, 3, 5, 10]\n"
     ]
    }
   ],
   "source": [
    "print(len(other_provider_ids))\n",
    "print(other_provider_ids[0:70])"
   ]
  },
  {
   "cell_type": "code",
   "execution_count": 25,
   "metadata": {
    "collapsed": true
   },
   "outputs": [],
   "source": [
    "#get number of awards\n",
    "awards = []\n",
    "\n",
    "for i in the_data:\n",
    "    if i['awards'] is not None and len(i['awards']) != 0:\n",
    "        awards.append(len(i['awards']))\n",
    "    else:\n",
    "        awards.append(None)"
   ]
  },
  {
   "cell_type": "code",
   "execution_count": 26,
   "metadata": {
    "collapsed": false
   },
   "outputs": [
    {
     "name": "stdout",
     "output_type": "stream",
     "text": [
      "50000\n",
      "[None, None, None, None, None, None, None, None, None, None, None, None, None, None, None, None, None, None, None, None, None, None, None, None, None, None, None, None, None, None, None, None, None, None, None, None, None, None, None, None, None, None, None, None, None, None, None, None, None, None, None, None, None, None, None, None, None, None, None, None, None, None, None, None, None, None, None, None, None, None]\n"
     ]
    }
   ],
   "source": [
    "print(len(awards))\n",
    "print(awards[0:70])\n",
    "#Note: very fewa actually have any awards"
   ]
  },
  {
   "cell_type": "code",
   "execution_count": 27,
   "metadata": {
    "collapsed": false
   },
   "outputs": [
    {
     "data": {
      "text/plain": [
       "25"
      ]
     },
     "execution_count": 27,
     "metadata": {},
     "output_type": "execute_result"
    }
   ],
   "source": [
    "len(the_data[1098]['awards'])"
   ]
  },
  {
   "cell_type": "code",
   "execution_count": 28,
   "metadata": {
    "collapsed": true
   },
   "outputs": [],
   "source": [
    "#get number of board certifications\n",
    "board_certs = []\n",
    "\n",
    "for i in the_data:\n",
    "    if i['board_certs'] is not None:\n",
    "        board_certs.append(len(i['board_certs']))\n",
    "    else:\n",
    "        board_certs.append(None)"
   ]
  },
  {
   "cell_type": "code",
   "execution_count": 29,
   "metadata": {
    "collapsed": false
   },
   "outputs": [
    {
     "name": "stdout",
     "output_type": "stream",
     "text": [
      "50000\n",
      "[None, 1, None, None, None, None, None, None, None, None, None, None, None, None, None, None, None, 1, None, None, None, None, None, None, None, None, None, None, None, None, None, None, None, None, None, None, None, None, None, None, None, None, None, None, None, None, None, None, None, None, None, None, None, None, None, None, None, None, None, None, None, None, None, None, None, None, None, None, None, None]\n"
     ]
    }
   ],
   "source": [
    "print(len(board_certs))\n",
    "print(board_certs[0:70])\n",
    "#again, very few"
   ]
  },
  {
   "cell_type": "code",
   "execution_count": 30,
   "metadata": {
    "collapsed": false
   },
   "outputs": [
    {
     "data": {
      "text/plain": [
       "1"
      ]
     },
     "execution_count": 30,
     "metadata": {},
     "output_type": "execute_result"
    }
   ],
   "source": [
    "len(the_data[1320]['board_certs'])"
   ]
  },
  {
   "cell_type": "code",
   "execution_count": 31,
   "metadata": {
    "collapsed": true
   },
   "outputs": [],
   "source": [
    "#get if any criminal history or disciplinary history\n",
    "criminal_history = []\n",
    "disciplinary_history = []\n",
    "\n",
    "for i in the_data:\n",
    "    if i['criminal_history'] is not None:\n",
    "        criminal_history.append(1)\n",
    "    else:\n",
    "        criminal_history.append(None)\n",
    "        \n",
    "    if i['disciplinary_history'] is not None:\n",
    "        disciplinary_history.append(1)\n",
    "    else:\n",
    "        disciplinary_history.append(None)"
   ]
  },
  {
   "cell_type": "code",
   "execution_count": 32,
   "metadata": {
    "collapsed": false
   },
   "outputs": [
    {
     "name": "stdout",
     "output_type": "stream",
     "text": [
      "50000\n",
      "[None, None, None, None, None, None, None, None, None, None, None, None, None, None, None, None, None, None, None, None, None, None, None, None, None, None, None, None, None, None, None, None, None, None, None, None, None, None, None, None, None, None, None, None, None, None, None, None, None, None, None, None, None, None, None, None, None, None, None, None, None, None, None, None, None, None, None, None, None, None]\n",
      "50000\n",
      "[None, None, None, None, None, None, None, None, None, None, None, None, None, None, None, None, None, None, None, None, None, None, None, None, None, None, None, None, None, None, None, None, None, None, None, None, None, None, None, None, None, None, None, None, None, None, None, None, None, None, None, None, None, None, None, None, None, None, None, None, None, None, None, None, None, None, None, None, None, None]\n"
     ]
    }
   ],
   "source": [
    "print(len(criminal_history))\n",
    "print(criminal_history[0:70])\n",
    "print(len(disciplinary_history))\n",
    "print(disciplinary_history[0:70])\n",
    "#again, very few"
   ]
  },
  {
   "cell_type": "code",
   "execution_count": 33,
   "metadata": {
    "collapsed": true
   },
   "outputs": [],
   "source": [
    "#count number of hospital privileges each doctor has\n",
    "hospital_privileges = []\n",
    "\n",
    "for i in the_data:\n",
    "    if i['hospital_privileges'] is not None:\n",
    "        hospital_privileges.append(len(i['hospital_privileges']))\n",
    "    else:\n",
    "        hospital_privileges.append(None)"
   ]
  },
  {
   "cell_type": "code",
   "execution_count": 34,
   "metadata": {
    "collapsed": false
   },
   "outputs": [
    {
     "name": "stdout",
     "output_type": "stream",
     "text": [
      "50000\n",
      "[None, 3, None, None, None, None, None, None, None, None, None, None, None, None, None, None, None, 3, None, None, None, None, None, None, None, None, None, None, None, None, None, None, None, None, None, None, None, None, None, None, None, None, None, None, None, None, None, None, None, None, None, None, None, None, None, None, None, None, None, None, None, None, None, None, None, None, None, None, None, None]\n"
     ]
    }
   ],
   "source": [
    "print(len(hospital_privileges))\n",
    "print(hospital_privileges[0:70])"
   ]
  },
  {
   "cell_type": "code",
   "execution_count": 35,
   "metadata": {
    "collapsed": true
   },
   "outputs": [],
   "source": [
    "#count number of languages spoken\n",
    "languages = []\n",
    "\n",
    "for i in the_data:\n",
    "    if i['languages'] is not None:\n",
    "        languages.append(len(i['languages']))\n",
    "    else:\n",
    "        languages.append(None)"
   ]
  },
  {
   "cell_type": "code",
   "execution_count": 37,
   "metadata": {
    "collapsed": false
   },
   "outputs": [
    {
     "name": "stdout",
     "output_type": "stream",
     "text": [
      "50000\n",
      "None\n"
     ]
    }
   ],
   "source": [
    "print(len(languages))\n",
    "print(languages[1320])"
   ]
  },
  {
   "cell_type": "code",
   "execution_count": 38,
   "metadata": {
    "collapsed": true
   },
   "outputs": [],
   "source": [
    "#for i,j in enumerate(languages):\n",
    " #   if j is not None and j !=1:\n",
    "       # print(i)"
   ]
  },
  {
   "cell_type": "code",
   "execution_count": 39,
   "metadata": {
    "collapsed": true
   },
   "outputs": [],
   "source": [
    "#check if any malpractice awards or settlements\n",
    "malpractice_awards = []\n",
    "malpractice_settlements = []\n",
    "\n",
    "for i in the_data:\n",
    "    if i['malpractice_awards'] is not None:\n",
    "        malpractice_awards.append(1)\n",
    "    else:\n",
    "        malpractice_awards.append(None)\n",
    "        \n",
    "    if i['malpractice_settlements'] is not None:\n",
    "        malpractice_settlements.append(1)\n",
    "    else:\n",
    "        malpractice_settlements.append(None)"
   ]
  },
  {
   "cell_type": "code",
   "execution_count": 40,
   "metadata": {
    "collapsed": false
   },
   "outputs": [
    {
     "name": "stdout",
     "output_type": "stream",
     "text": [
      "50000\n",
      "[None, None, None, None, None, None, None, None, None, None, None, None, None, None, None, None, None, None, None, None, None, None, None, None, None, None, None, None, None, None, None, None, None, None, None, None, None, None, None, None, None, None, None, None, None, None, None, None, None, None, None, None, None, None, None, None, None, None, None, None, None, None, None, None, None, None, None, None, None, None]\n"
     ]
    }
   ],
   "source": [
    "print(len(malpractice_awards))\n",
    "print(malpractice_awards[0:70])"
   ]
  },
  {
   "cell_type": "code",
   "execution_count": 41,
   "metadata": {
    "collapsed": false
   },
   "outputs": [
    {
     "name": "stdout",
     "output_type": "stream",
     "text": [
      "50000\n",
      "[None, None, None, None, None, None, None, None, None, None, None, None, None, None, None, None, None, None, None, None, None, None, None, None, None, None, None, None, None, None, None, None, None, None, None, None, None, None, None, None, None, None, None, None, None, None, None, None, None, None, None, None, None, None, None, None, None, None, None, None, None, None, None, None, None, None, None, None, None, None]\n"
     ]
    }
   ],
   "source": [
    "print(len(malpractice_settlements))\n",
    "print(malpractice_settlements[0:70])"
   ]
  },
  {
   "cell_type": "code",
   "execution_count": 42,
   "metadata": {
    "collapsed": true
   },
   "outputs": [],
   "source": [
    "#count number of other med schools attended\n",
    "other_med_schools = []\n",
    "\n",
    "for i in the_data:\n",
    "    if i['other_med_schools'] is not None:\n",
    "        other_med_schools.append(len(i['other_med_schools']))\n",
    "    else:\n",
    "        other_med_schools.append(None)"
   ]
  },
  {
   "cell_type": "code",
   "execution_count": 43,
   "metadata": {
    "collapsed": false
   },
   "outputs": [
    {
     "name": "stdout",
     "output_type": "stream",
     "text": [
      "50000\n",
      "[None, None, None, None, None, None, None, None, None, None, None, None, None, None, None, None, None, None, None, None, None, None, None, None, None, None, None, None, None, None, None, None, None, None, None, None, None, None, None, None, None, None, None, None, None, None, None, None, None, None, None, None, None, None, None, None, None, None, None, None, None, None, None, None, None, None, None, None, None, None]\n"
     ]
    }
   ],
   "source": [
    "print(len(other_med_schools))\n",
    "print(other_med_schools[0:70])"
   ]
  },
  {
   "cell_type": "code",
   "execution_count": 44,
   "metadata": {
    "collapsed": false
   },
   "outputs": [
    {
     "name": "stdout",
     "output_type": "stream",
     "text": [
      "98\n",
      "289\n",
      "297\n",
      "424\n",
      "428\n",
      "458\n",
      "478\n",
      "639\n",
      "690\n",
      "722\n",
      "746\n",
      "749\n",
      "822\n",
      "839\n",
      "1006\n",
      "1084\n",
      "1228\n",
      "1246\n",
      "1391\n",
      "1490\n",
      "1496\n",
      "1529\n",
      "1531\n",
      "1586\n",
      "1588\n",
      "1732\n",
      "1752\n",
      "1800\n",
      "1817\n",
      "1847\n",
      "2034\n",
      "2108\n",
      "2204\n",
      "2449\n",
      "2453\n",
      "2619\n",
      "2691\n",
      "2700\n",
      "3196\n",
      "3213\n",
      "3216\n",
      "3229\n",
      "3416\n",
      "3542\n",
      "3644\n",
      "3714\n",
      "3877\n",
      "4052\n",
      "4156\n",
      "4195\n",
      "4764\n",
      "4809\n",
      "4822\n",
      "4912\n",
      "5043\n",
      "5051\n",
      "5059\n",
      "5221\n",
      "5276\n",
      "5370\n",
      "5392\n",
      "5420\n",
      "5534\n",
      "5780\n",
      "5976\n",
      "6229\n",
      "6286\n",
      "6325\n",
      "6497\n",
      "6697\n",
      "6715\n",
      "6747\n",
      "6758\n",
      "6784\n",
      "7039\n",
      "7078\n",
      "7174\n",
      "7455\n",
      "7547\n",
      "7715\n",
      "7821\n",
      "7823\n",
      "7870\n",
      "8012\n",
      "8023\n",
      "8088\n",
      "8135\n",
      "8178\n",
      "8232\n",
      "8237\n",
      "8361\n",
      "8385\n",
      "8403\n",
      "8474\n",
      "8556\n",
      "8571\n",
      "9005\n",
      "9236\n",
      "9273\n",
      "9284\n",
      "9364\n",
      "10269\n",
      "10272\n",
      "10352\n",
      "10370\n",
      "10577\n",
      "10728\n",
      "10852\n",
      "10932\n",
      "10985\n",
      "11171\n",
      "11193\n",
      "11210\n",
      "11212\n",
      "11230\n",
      "11293\n",
      "11362\n",
      "11655\n",
      "11971\n",
      "12347\n",
      "12361\n",
      "12821\n",
      "12934\n",
      "12978\n",
      "13157\n",
      "13243\n",
      "13399\n",
      "13443\n",
      "13520\n",
      "13603\n",
      "14099\n",
      "14112\n",
      "14141\n",
      "14651\n",
      "14779\n",
      "14790\n",
      "15138\n",
      "15163\n",
      "15285\n",
      "15459\n",
      "16151\n",
      "16167\n",
      "16308\n",
      "16499\n",
      "16507\n",
      "16634\n",
      "16638\n",
      "16668\n",
      "16688\n",
      "16849\n",
      "16900\n",
      "16932\n",
      "16956\n",
      "16959\n",
      "17032\n",
      "17049\n",
      "17216\n",
      "17294\n",
      "17438\n",
      "17456\n",
      "17601\n",
      "17700\n",
      "17706\n",
      "17739\n",
      "17741\n",
      "17796\n",
      "17798\n",
      "17942\n",
      "17962\n",
      "18010\n",
      "18027\n",
      "18057\n",
      "18244\n",
      "18318\n",
      "18414\n",
      "18659\n",
      "18663\n",
      "18829\n",
      "18901\n",
      "18910\n",
      "19406\n",
      "19423\n",
      "19426\n",
      "19439\n",
      "19626\n",
      "19752\n",
      "19854\n",
      "19924\n",
      "20087\n",
      "20262\n",
      "20366\n",
      "20405\n",
      "20974\n",
      "21019\n",
      "21032\n",
      "21122\n",
      "21253\n",
      "21261\n",
      "21269\n",
      "21431\n",
      "21486\n",
      "21580\n",
      "21602\n",
      "21630\n",
      "21744\n",
      "21990\n",
      "22186\n",
      "22439\n",
      "22496\n",
      "22535\n",
      "22707\n",
      "22907\n",
      "22925\n",
      "22957\n",
      "22968\n",
      "22994\n",
      "23249\n",
      "23288\n",
      "23384\n",
      "23665\n",
      "23757\n",
      "23925\n",
      "24031\n",
      "24033\n",
      "24080\n",
      "24222\n",
      "24233\n",
      "24298\n",
      "24345\n",
      "24388\n",
      "24442\n",
      "24447\n",
      "24571\n",
      "24595\n",
      "24613\n",
      "24684\n",
      "24766\n",
      "24781\n",
      "25215\n",
      "25446\n",
      "25483\n",
      "25494\n",
      "25574\n",
      "26479\n",
      "26482\n",
      "26562\n",
      "26580\n",
      "26787\n",
      "26938\n",
      "27062\n",
      "27142\n",
      "27195\n",
      "27381\n",
      "27403\n",
      "27420\n",
      "27422\n",
      "27440\n",
      "27503\n",
      "27572\n",
      "27865\n",
      "28181\n",
      "28557\n",
      "28571\n",
      "29031\n",
      "29144\n",
      "29188\n",
      "29367\n",
      "29453\n",
      "29609\n",
      "29653\n",
      "29730\n",
      "29813\n",
      "30309\n",
      "30322\n",
      "30351\n",
      "30861\n",
      "30989\n",
      "31000\n",
      "31348\n",
      "31373\n",
      "31495\n",
      "31669\n",
      "32361\n",
      "32377\n",
      "32517\n",
      "32708\n",
      "32716\n",
      "32843\n",
      "32847\n",
      "32877\n",
      "32897\n",
      "33058\n",
      "33109\n",
      "33141\n",
      "33165\n",
      "33168\n",
      "33241\n",
      "33258\n",
      "33425\n",
      "33503\n",
      "33647\n",
      "33665\n",
      "33810\n",
      "33909\n",
      "33915\n",
      "33948\n",
      "33950\n",
      "34005\n",
      "34007\n",
      "34151\n",
      "34171\n",
      "34219\n",
      "34236\n",
      "34266\n",
      "34453\n",
      "34527\n",
      "34623\n",
      "34868\n",
      "34872\n",
      "35038\n",
      "35110\n",
      "35119\n",
      "35615\n",
      "35632\n",
      "35635\n",
      "35648\n",
      "35835\n",
      "35961\n",
      "36063\n",
      "36133\n",
      "36296\n",
      "36471\n",
      "36575\n",
      "36614\n",
      "37183\n",
      "37228\n",
      "37241\n",
      "37331\n",
      "37462\n",
      "37470\n",
      "37478\n",
      "37640\n",
      "37695\n",
      "37789\n",
      "37811\n",
      "37839\n",
      "37953\n",
      "38199\n",
      "38395\n",
      "38648\n",
      "38705\n",
      "38744\n",
      "38916\n",
      "39116\n",
      "39134\n",
      "39166\n",
      "39177\n",
      "39203\n",
      "39458\n",
      "39497\n",
      "39593\n",
      "39874\n",
      "39966\n",
      "40134\n",
      "40240\n",
      "40242\n",
      "40289\n",
      "40431\n",
      "40442\n",
      "40507\n",
      "40554\n",
      "40597\n",
      "40651\n",
      "40656\n",
      "40780\n",
      "40804\n",
      "40822\n",
      "40893\n",
      "40975\n",
      "40990\n",
      "41424\n",
      "41655\n",
      "41692\n",
      "41703\n",
      "41783\n",
      "42688\n",
      "42691\n",
      "42771\n",
      "42789\n",
      "42996\n",
      "43147\n",
      "43271\n",
      "43351\n",
      "43404\n",
      "43590\n",
      "43612\n",
      "43629\n",
      "43631\n",
      "43649\n",
      "43712\n",
      "43781\n",
      "44074\n",
      "44390\n",
      "44766\n",
      "44780\n",
      "45240\n",
      "45353\n",
      "45397\n",
      "45576\n",
      "45662\n",
      "45818\n",
      "45862\n",
      "45939\n",
      "46022\n",
      "46518\n",
      "46531\n",
      "46560\n",
      "47070\n",
      "47198\n",
      "47209\n",
      "47557\n",
      "47582\n",
      "47704\n",
      "47878\n",
      "48570\n",
      "48586\n",
      "48686\n",
      "48752\n",
      "48977\n",
      "49131\n",
      "49192\n",
      "49433\n",
      "49738\n",
      "49770\n",
      "49848\n",
      "49866\n"
     ]
    }
   ],
   "source": [
    "for i,j in enumerate(other_med_schools):\n",
    "    if j is not None:\n",
    "        print(i)"
   ]
  },
  {
   "cell_type": "code",
   "execution_count": 45,
   "metadata": {
    "collapsed": true
   },
   "outputs": [],
   "source": [
    "#count number of organizations belonged to\n",
    "organizations = []\n",
    "\n",
    "for i in the_data:\n",
    "    if i['organizations'] is not None:\n",
    "        organizations.append(len(i['organizations']))\n",
    "    else:\n",
    "        organizations.append(None)"
   ]
  },
  {
   "cell_type": "code",
   "execution_count": 46,
   "metadata": {
    "collapsed": false
   },
   "outputs": [
    {
     "name": "stdout",
     "output_type": "stream",
     "text": [
      "50000\n",
      "7\n"
     ]
    }
   ],
   "source": [
    "print(len(organizations))\n",
    "print(organizations[1320])"
   ]
  },
  {
   "cell_type": "code",
   "execution_count": 47,
   "metadata": {
    "collapsed": false
   },
   "outputs": [
    {
     "data": {
      "text/plain": [
       "[{u'id': u'93420WI',\n",
       "  u'state': u'NE',\n",
       "  u'type': u'MEDICARE ID-TYPE UNSPECIFIED'},\n",
       " {u'id': u'1553', u'issuer': u'BCBS', u'state': u'NE', u'type': u'OTHER'},\n",
       " {u'id': u'645540',\n",
       "  u'issuer': u'FIRSTGUARD',\n",
       "  u'state': u'KS',\n",
       "  u'type': u'OTHER'},\n",
       " {u'id': u'46969', u'issuer': u'BCBS', u'state': u'KS', u'type': u'OTHER'},\n",
       " {u'id': u'B67599', u'type': u'MEDICARE UPIN'},\n",
       " {u'id': u'046969WI',\n",
       "  u'state': u'KS',\n",
       "  u'type': u'MEDICARE ID-TYPE UNSPECIFIED'}]"
      ]
     },
     "execution_count": 47,
     "metadata": {},
     "output_type": "execute_result"
    }
   ],
   "source": [
    "the_data[0]['other_provider_identifiers']"
   ]
  },
  {
   "cell_type": "code",
   "execution_count": 49,
   "metadata": {
    "collapsed": true
   },
   "outputs": [],
   "source": [
    "#count number of other provider identifiers\n",
    "other_provider_identifiers = []\n",
    "\n",
    "k = 0\n",
    "for i in the_data:\n",
    "    if 'other_provider_identifiers' in i and i['other_provider_identifiers'] is not None:\n",
    "        other_provider_identifiers.append(len(i['other_provider_identifiers']))\n",
    "    else:\n",
    "        other_provider_identifiers.append(None)"
   ]
  },
  {
   "cell_type": "code",
   "execution_count": 50,
   "metadata": {
    "collapsed": false
   },
   "outputs": [
    {
     "name": "stdout",
     "output_type": "stream",
     "text": [
      "50000\n",
      "[6, 11, 2, 5, 14, 1, 1, 2, 4, 2, 2, 10, 7, 3, 8, 2, None, 2, 2, 2, 3, 4, 1, 6, None, 3, 2, None, 7, 7, None, 5, 2, None, 3, 9, 3, 2, 3, 2, 2, 3, None, None, 3, 3, 3, 3, 3, 5, 4, 2, 3, 3, 3, 1, 7, 1, 7, 4, 4, 8, 5, 2, 2, None, 1, 3, 5, 10]\n"
     ]
    }
   ],
   "source": [
    "print(len(other_provider_identifiers))\n",
    "print(other_provider_identifiers[0:70])"
   ]
  },
  {
   "cell_type": "code",
   "execution_count": 51,
   "metadata": {
    "collapsed": true
   },
   "outputs": [],
   "source": [
    "#count number of postgrad trainings done\n",
    "postgrad_training = []\n",
    "\n",
    "for i in the_data:\n",
    "    if i['postgrad_training'] is not None:\n",
    "        postgrad_training.append(len(i['postgrad_training']))\n",
    "    else:\n",
    "        postgrad_training.append(None)"
   ]
  },
  {
   "cell_type": "code",
   "execution_count": 52,
   "metadata": {
    "collapsed": false
   },
   "outputs": [
    {
     "name": "stdout",
     "output_type": "stream",
     "text": [
      "50000\n",
      "[None, 3, None, None, None, None, None, None, None, None, None, None, None, None, None, None, None, 3, None, None, None, None, None, None, None, None, None, None, None, None, None, None, None, None, None, None, None, None, None, None, None, None, None, None, None, None, None, None, None, None, None, None, None, None, None, None, None, None, None, None, None, None, None, None, None, None, None, None, None, None]\n"
     ]
    }
   ],
   "source": [
    "print(len(postgrad_training))\n",
    "print(postgrad_training[0:70])"
   ]
  },
  {
   "cell_type": "code",
   "execution_count": 53,
   "metadata": {
    "collapsed": true
   },
   "outputs": [],
   "source": [
    "#check if privileges revoked- VERY few...get rid of\n",
    "privileges_revoked = []\n",
    "\n",
    "for i in the_data:\n",
    "    if i['privileges_revoked'] is not None:\n",
    "        privileges_revoked.append(1)\n",
    "    else:\n",
    "        privileges_revoked.append(None)"
   ]
  },
  {
   "cell_type": "code",
   "execution_count": 54,
   "metadata": {
    "collapsed": false
   },
   "outputs": [
    {
     "name": "stdout",
     "output_type": "stream",
     "text": [
      "50000\n",
      "[None, None, None, None, None, None, None, None, None, None, None, None, None, None, None, None, None, None, None, None, None, None, None, None, None, None, None, None, None, None, None, None, None, None, None, None, None, None, None, None, None, None, None, None, None, None, None, None, None, None, None, None, None, None, None, None, None, None, None, None, None, None, None, None, None, None, None, None, None, None]\n"
     ]
    }
   ],
   "source": [
    "print(len(privileges_revoked))\n",
    "print(privileges_revoked[0:70])"
   ]
  },
  {
   "cell_type": "code",
   "execution_count": 55,
   "metadata": {
    "collapsed": true
   },
   "outputs": [],
   "source": [
    "for i,j in enumerate(privileges_revoked):\n",
    "    if j is not None:\n",
    "        print(i)"
   ]
  },
  {
   "cell_type": "code",
   "execution_count": 56,
   "metadata": {
    "collapsed": true
   },
   "outputs": [],
   "source": [
    "#check number of publications\n",
    "publications = []\n",
    "\n",
    "for i in the_data:\n",
    "    if i['publications'] is not None:\n",
    "        publications.append(len(i['publications']))\n",
    "    else:\n",
    "        publications.append(None)"
   ]
  },
  {
   "cell_type": "code",
   "execution_count": 57,
   "metadata": {
    "collapsed": false
   },
   "outputs": [
    {
     "name": "stdout",
     "output_type": "stream",
     "text": [
      "50000\n",
      "[None, None, None, None, None, None, None, None, None, None, None, None, None, None, None, None, None, 4, None, None, None, None, None, None, None, None, None, None, None, None, None, None, None, None, None, None, None, None, None, None, None, None, None, None, None, None, None, None, None, None, None, None, None, None, None, None, None, None, None, None, None, None, None, None, None, None, None, None, None, None]\n"
     ]
    }
   ],
   "source": [
    "print(len(publications))\n",
    "print(publications[0:70])\n",
    "#very few"
   ]
  },
  {
   "cell_type": "code",
   "execution_count": 58,
   "metadata": {
    "collapsed": false
   },
   "outputs": [
    {
     "name": "stdout",
     "output_type": "stream",
     "text": [
      "17\n",
      "71\n",
      "201\n",
      "207\n",
      "236\n",
      "297\n",
      "384\n",
      "389\n",
      "424\n",
      "591\n",
      "617\n",
      "690\n",
      "722\n",
      "749\n",
      "757\n",
      "839\n",
      "1098\n",
      "1122\n",
      "1455\n",
      "1592\n",
      "1727\n",
      "3122\n",
      "3206\n",
      "3280\n",
      "3375\n",
      "3621\n",
      "3939\n",
      "3995\n",
      "4156\n",
      "4322\n",
      "4588\n",
      "5015\n",
      "5059\n",
      "5187\n",
      "5276\n",
      "5352\n",
      "5537\n",
      "6600\n",
      "6689\n",
      "6787\n",
      "7031\n",
      "7800\n",
      "7821\n",
      "8012\n",
      "8018\n",
      "8062\n",
      "8135\n",
      "8178\n",
      "8271\n",
      "8359\n",
      "8403\n",
      "8581\n",
      "8859\n",
      "9236\n",
      "9241\n",
      "9262\n",
      "9269\n",
      "9284\n",
      "9579\n",
      "9607\n",
      "9731\n",
      "9802\n",
      "9844\n",
      "10250\n",
      "10370\n",
      "10728\n",
      "10945\n",
      "11095\n",
      "11207\n",
      "11210\n",
      "11212\n",
      "11230\n",
      "11362\n",
      "11596\n",
      "11783\n",
      "11863\n",
      "11872\n",
      "12347\n",
      "12371\n",
      "12821\n",
      "12929\n",
      "13259\n",
      "13341\n",
      "13393\n",
      "13422\n",
      "13437\n",
      "13520\n",
      "13579\n",
      "13851\n",
      "13973\n",
      "13998\n",
      "14099\n",
      "14112\n",
      "14779\n",
      "15328\n",
      "15347\n",
      "15401\n",
      "15967\n",
      "16145\n",
      "16227\n",
      "16281\n",
      "16411\n",
      "16417\n",
      "16446\n",
      "16507\n",
      "16594\n",
      "16599\n",
      "16634\n",
      "16801\n",
      "16827\n",
      "16900\n",
      "16932\n",
      "16959\n",
      "16967\n",
      "17049\n",
      "17308\n",
      "17332\n",
      "17665\n",
      "17802\n",
      "17937\n",
      "19332\n",
      "19416\n",
      "19490\n",
      "19585\n",
      "19831\n",
      "20149\n",
      "20205\n",
      "20366\n",
      "20532\n",
      "20798\n",
      "21225\n",
      "21269\n",
      "21397\n",
      "21486\n",
      "21562\n",
      "21747\n",
      "22810\n",
      "22899\n",
      "22997\n",
      "23241\n",
      "24010\n",
      "24031\n",
      "24222\n",
      "24228\n",
      "24272\n",
      "24345\n",
      "24388\n",
      "24481\n",
      "24569\n",
      "24613\n",
      "24791\n",
      "25069\n",
      "25446\n",
      "25451\n",
      "25472\n",
      "25479\n",
      "25494\n",
      "25789\n",
      "25817\n",
      "25941\n",
      "26012\n",
      "26054\n",
      "26460\n",
      "26580\n",
      "26938\n",
      "27155\n",
      "27305\n",
      "27417\n",
      "27420\n",
      "27422\n",
      "27440\n",
      "27572\n",
      "27806\n",
      "27993\n",
      "28073\n",
      "28082\n",
      "28557\n",
      "28581\n",
      "29031\n",
      "29139\n",
      "29469\n",
      "29551\n",
      "29603\n",
      "29632\n",
      "29647\n",
      "29730\n",
      "29789\n",
      "30061\n",
      "30183\n",
      "30208\n",
      "30309\n",
      "30322\n",
      "30989\n",
      "31538\n",
      "31557\n",
      "31611\n",
      "32177\n",
      "32355\n",
      "32436\n",
      "32490\n",
      "32620\n",
      "32626\n",
      "32655\n",
      "32716\n",
      "32803\n",
      "32808\n",
      "32843\n",
      "33010\n",
      "33036\n",
      "33109\n",
      "33141\n",
      "33168\n",
      "33176\n",
      "33258\n",
      "33517\n",
      "33541\n",
      "33874\n",
      "34011\n",
      "34146\n",
      "35541\n",
      "35625\n",
      "35699\n",
      "35794\n",
      "36040\n",
      "36358\n",
      "36414\n",
      "36575\n",
      "36741\n",
      "37007\n",
      "37434\n",
      "37478\n",
      "37606\n",
      "37695\n",
      "37771\n",
      "37956\n",
      "39019\n",
      "39108\n",
      "39206\n",
      "39450\n",
      "40219\n",
      "40240\n",
      "40431\n",
      "40437\n",
      "40481\n",
      "40554\n",
      "40597\n",
      "40690\n",
      "40778\n",
      "40822\n",
      "41000\n",
      "41278\n",
      "41655\n",
      "41660\n",
      "41681\n",
      "41688\n",
      "41703\n",
      "41998\n",
      "42026\n",
      "42150\n",
      "42221\n",
      "42263\n",
      "42669\n",
      "42789\n",
      "43147\n",
      "43364\n",
      "43514\n",
      "43626\n",
      "43629\n",
      "43631\n",
      "43649\n",
      "43781\n",
      "44015\n",
      "44202\n",
      "44282\n",
      "44291\n",
      "44766\n",
      "44790\n",
      "45240\n",
      "45348\n",
      "45678\n",
      "45760\n",
      "45812\n",
      "45841\n",
      "45856\n",
      "45939\n",
      "45998\n",
      "46270\n",
      "46392\n",
      "46417\n",
      "46518\n",
      "46531\n",
      "47198\n",
      "47747\n",
      "47766\n",
      "47820\n",
      "48386\n",
      "48564\n",
      "48659\n",
      "48752\n",
      "48977\n",
      "49058\n",
      "49443\n",
      "49734\n",
      "49738\n",
      "49848\n",
      "49879\n"
     ]
    }
   ],
   "source": [
    "for i,j in enumerate(publications):\n",
    "    if j is not None:\n",
    "        print(i)"
   ]
  },
  {
   "cell_type": "code",
   "execution_count": 59,
   "metadata": {
    "collapsed": true
   },
   "outputs": [],
   "source": [
    "#count the number of specialties a doctor has\n",
    "specialties = []\n",
    "\n",
    "for i in the_data:\n",
    "    if i['specialty'] is not None:\n",
    "        specialties.append(len(i['specialty']))\n",
    "    else:\n",
    "        specialties.append(None)"
   ]
  },
  {
   "cell_type": "code",
   "execution_count": 60,
   "metadata": {
    "collapsed": false
   },
   "outputs": [
    {
     "name": "stdout",
     "output_type": "stream",
     "text": [
      "50000\n",
      "[1, 1, 1, 2, 1, 1, 1, 1, 1, 1, 1, 1, 1, 1, 2, 1, 1, 1, 1, 1, 2, 1, 1, 1, 1, 1, 2, 1, 1, 1, 1, 1, 1, 4, 1, 1, 1, 1, 1, 1, 1, 1, 1, 1, 1, 1, 1, 2, 2, 1, 1, 1, 1, 1, 1, 1, 1, 1, 1, 2, 1, 1, 1, 1, 1, 1, 1, 1, 1, 1]\n"
     ]
    }
   ],
   "source": [
    "print(len(specialties))\n",
    "print(specialties[0:70])\n",
    "#NOTE: all have at least one!"
   ]
  },
  {
   "cell_type": "code",
   "execution_count": 63,
   "metadata": {
    "collapsed": true
   },
   "outputs": [],
   "source": [
    "#RUN\n",
    "feats = []\n",
    "feats.append(avg_service_scores)\n",
    "feats.append(avg_medicare_payments_ratio)\n",
    "feats.append(num_medicare_specs)\n",
    "feats.append(other_provider_ids)\n",
    "feats.append(awards)\n",
    "feats.append(board_certs)\n",
    "feats.append(hospital_privileges)\n",
    "feats.append(languages)\n",
    "feats.append(other_med_schools)\n",
    "feats.append(organizations)\n",
    "feats.append(other_provider_identifiers)\n",
    "feats.append(postgrad_training)\n",
    "feats.append(publications)\n",
    "feats.append(specialties)"
   ]
  },
  {
   "cell_type": "code",
   "execution_count": 62,
   "metadata": {
    "collapsed": true
   },
   "outputs": [],
   "source": [
    "negFeats = []\n",
    "negFeats.append(avg_remaining_charge)"
   ]
  },
  {
   "cell_type": "code",
   "execution_count": 61,
   "metadata": {
    "collapsed": true
   },
   "outputs": [],
   "source": [
    "boolFeats = []\n",
    "boolFeats.append(criminal_history)\n",
    "boolFeats.append(disciplinary_history)\n",
    "#boolFeats.append(privileges_revoked)\n",
    "boolFeats.append(malpractice_settlements)\n",
    "boolFeats.append(malpractice_awards)"
   ]
  },
  {
   "cell_type": "code",
   "execution_count": null,
   "metadata": {
    "collapsed": true
   },
   "outputs": [],
   "source": []
  },
  {
   "cell_type": "code",
   "execution_count": null,
   "metadata": {
    "collapsed": true
   },
   "outputs": [],
   "source": []
  },
  {
   "cell_type": "code",
   "execution_count": null,
   "metadata": {
    "collapsed": true
   },
   "outputs": [],
   "source": []
  },
  {
   "cell_type": "code",
   "execution_count": null,
   "metadata": {
    "collapsed": true
   },
   "outputs": [],
   "source": []
  },
  {
   "cell_type": "code",
   "execution_count": 64,
   "metadata": {
    "collapsed": false
   },
   "outputs": [
    {
     "name": "stdout",
     "output_type": "stream",
     "text": [
      "0:00:00\n"
     ]
    }
   ],
   "source": [
    "#RUN\n",
    "#this 2d list could be reduced in size by more than half, but that involves generating the combinations (not hard)\n",
    "# and indexing appropriately (hard)\n",
    "a = datetime.datetime.now().replace(microsecond=0)\n",
    "\n",
    "num_times_faced = np.zeros((len(the_data), len(the_data)))\n",
    "\n",
    "b = datetime.datetime.now().replace(microsecond=0)\n",
    "print(b-a)"
   ]
  },
  {
   "cell_type": "code",
   "execution_count": null,
   "metadata": {
    "collapsed": false
   },
   "outputs": [
    {
     "name": "stdout",
     "output_type": "stream",
     "text": [
      "3:15:35\n"
     ]
    }
   ],
   "source": [
    "#RUN\n",
    "a = datetime.datetime.now().replace(microsecond=0)\n",
    "\n",
    "wins = [0] * len(the_data)\n",
    "losses = [0] * len(the_data)\n",
    "plays = [0] * len(the_data)\n",
    "\n",
    "start = 0\n",
    "for i in range(len(the_data)):\n",
    "    for j in range(start, len(the_data)):\n",
    "        #have 499,500 cell combos being checked so removed checking dups to speed up!\n",
    "        \n",
    "        #now we have the coords for each unique cell combo\n",
    "        \n",
    "        #now iterate through list of lists of features\n",
    "        for p in feats:\n",
    "                \n",
    "            score_i = p[i]\n",
    "            score_j = p[j]\n",
    "\n",
    "            #if both have values, then give the higher a win\n",
    "            if score_i is not None and score_j is not None:\n",
    "\n",
    "                plays[i] = plays[i] + 1\n",
    "                plays[j] = plays[j] + 1\n",
    "                \n",
    "                num_times_faced[i][j] = num_times_faced[i][j] + 1\n",
    "\n",
    "                #score competition:\n",
    "                if score_i > score_j:\n",
    "                    wins[i] = wins[i] + 1\n",
    "                    losses[j] = losses[j] + 1\n",
    "                elif score_i < score_j:\n",
    "                    wins[j] = wins[j] + 1\n",
    "                    losses[i] = losses[i] + 1\n",
    "                #else if a tie, do nothing   \n",
    "\n",
    "            #LOOP through and REPEAT for each feature list\n",
    "            \n",
    "        for p in negFeats:\n",
    "                \n",
    "            score_i = p[i]\n",
    "            score_j = p[j]\n",
    "\n",
    "            #if both have values, then give the higher a win\n",
    "            if score_i is not None and score_j is not None:\n",
    "\n",
    "                plays[i] = plays[i] + 1\n",
    "                plays[j] = plays[j] + 1\n",
    "                \n",
    "                num_times_faced[i][j] = num_times_faced[i][j] + 1\n",
    "\n",
    "                #score competition:\n",
    "                if score_i < score_j:\n",
    "                    wins[i] = wins[i] + 1\n",
    "                    losses[j] = losses[j] + 1\n",
    "                elif score_i > score_j:\n",
    "                    wins[j] = wins[j] + 1\n",
    "                    losses[i] = losses[i] + 1\n",
    "                #else if a tie, do nothing  \n",
    "                \n",
    "        for p in boolFeats:\n",
    "                \n",
    "            score_i = p[i]\n",
    "            score_j = p[j]\n",
    "\n",
    "            #if both have values, then give the higher a win\n",
    "            if score_i is None and score_j == 1:\n",
    "\n",
    "                plays[i] = plays[i] + 1\n",
    "                plays[j] = plays[j] + 1\n",
    "                \n",
    "                num_times_faced[i][j] = num_times_faced[i][j] + 1\n",
    "\n",
    "                #score competition:\n",
    "                wins[i] = wins[i] + 1\n",
    "                losses[j] = losses[j] + 1\n",
    "                \n",
    "            elif score_i == 1 and score_j is None:\n",
    "                \n",
    "                plays[i] = plays[i] + 1\n",
    "                plays[j] = plays[j] + 1\n",
    "                \n",
    "                num_times_faced[i][j] = num_times_faced[i][j] + 1\n",
    "\n",
    "                #score competition:\n",
    "                wins[j] = wins[j] + 1\n",
    "                losses[i] = losses[i] + 1\n",
    "                    \n",
    "            #else if both None or both 1, do nothing  \n",
    "            \n",
    "    start = start+1\n",
    "\n",
    "b = datetime.datetime.now().replace(microsecond=0)\n",
    "print(b-a)"
   ]
  },
  {
   "cell_type": "code",
   "execution_count": null,
   "metadata": {
    "collapsed": true
   },
   "outputs": [],
   "source": []
  },
  {
   "cell_type": "code",
   "execution_count": null,
   "metadata": {
    "collapsed": true
   },
   "outputs": [],
   "source": [
    "#initialize matrix\n",
    "matrixColley = pd.DataFrame(index=range(0,len(the_data)),columns=range(0, len(the_data)))"
   ]
  },
  {
   "cell_type": "code",
   "execution_count": null,
   "metadata": {
    "collapsed": true
   },
   "outputs": [],
   "source": [
    "#populate\n",
    "a = datetime.datetime.now().replace(microsecond=0)\n",
    "\n",
    "start = 0\n",
    "for i in range(len(the_data)):\n",
    "    for j in range(start, len(the_data)):\n",
    "        \n",
    "        #now do something with ranks: add to matrix\n",
    "        if i == j:\n",
    "            matrixColley.iloc[i][j]= 2 + plays[i]\n",
    "        \n",
    "        else: \n",
    "            matrixColley.iloc[i][j]= - (num_times_faced[i][j]+num_times_faced[j][i])\n",
    "            matrixColley.iloc[j][i]= - (num_times_faced[i][j]+num_times_faced[j][i])\n",
    "\n",
    "            #where n = num. times i and j faced each other\n",
    "            \n",
    "    start = start+1\n",
    "\n",
    "b = datetime.datetime.now().replace(microsecond=0)\n",
    "print(b-a)"
   ]
  },
  {
   "cell_type": "code",
   "execution_count": null,
   "metadata": {
    "collapsed": true
   },
   "outputs": [],
   "source": [
    "matrixColley"
   ]
  },
  {
   "cell_type": "code",
   "execution_count": null,
   "metadata": {
    "collapsed": true
   },
   "outputs": [],
   "source": [
    "b1 = []\n",
    "for i in range(len(the_data)):\n",
    "    calc = 1+ (0.5*(wins[i]-losses[i]))\n",
    "    b1.append(calc)"
   ]
  },
  {
   "cell_type": "code",
   "execution_count": null,
   "metadata": {
    "collapsed": true
   },
   "outputs": [],
   "source": [
    "print(b1[0:10])"
   ]
  },
  {
   "cell_type": "code",
   "execution_count": null,
   "metadata": {
    "collapsed": true
   },
   "outputs": [],
   "source": [
    "#convert to a numpy array and check types\n",
    "b1 = np.array(b1)\n",
    "print(type(b1))\n",
    "print(type(b1[0]))"
   ]
  },
  {
   "cell_type": "code",
   "execution_count": null,
   "metadata": {
    "collapsed": true
   },
   "outputs": [],
   "source": [
    "b1.shape"
   ]
  },
  {
   "cell_type": "code",
   "execution_count": null,
   "metadata": {
    "collapsed": true
   },
   "outputs": [],
   "source": [
    "#convert \n",
    "dat = matrixColley.values.tolist()\n",
    "data = np.array(dat)"
   ]
  },
  {
   "cell_type": "code",
   "execution_count": null,
   "metadata": {
    "collapsed": true
   },
   "outputs": [],
   "source": [
    "np.linalg.matrix_rank(data)"
   ]
  },
  {
   "cell_type": "code",
   "execution_count": null,
   "metadata": {
    "collapsed": true
   },
   "outputs": [],
   "source": [
    "a = datetime.datetime.now().replace(microsecond=0)\n",
    "\n",
    "x = np.linalg.solve(data,b1)\n",
    "\n",
    "b = datetime.datetime.now().replace(microsecond=0)\n",
    "print(b-a)"
   ]
  },
  {
   "cell_type": "code",
   "execution_count": null,
   "metadata": {
    "collapsed": true
   },
   "outputs": [],
   "source": [
    "x"
   ]
  },
  {
   "cell_type": "code",
   "execution_count": null,
   "metadata": {
    "collapsed": true
   },
   "outputs": [],
   "source": [
    "a = datetime.datetime.now().replace(microsecond=0)\n",
    "\n",
    "with open(\"/mnt/mypartition/pokitdok_project/NEWsubset.jsonl\", 'r') as f, open(\"/mnt/mypartition/pokitdok_project/ranked50000.jsonl\", 'a') as output:\n",
    "    i = 0\n",
    "    for line in f:\n",
    "        line = json.loads(line)\n",
    "\n",
    "        line['rank'] = x[i]\n",
    "        json.dump(line, output)\n",
    "        output.write('\\n')\n",
    "        i = i + 1\n",
    "        \n",
    "b = datetime.datetime.now().replace(microsecond=0)\n",
    "print(b-a)"
   ]
  },
  {
   "cell_type": "code",
   "execution_count": null,
   "metadata": {
    "collapsed": true
   },
   "outputs": [],
   "source": [
    "a = datetime.datetime.now().replace(microsecond=0)\n",
    "\n",
    "with open(\"/mnt/mypartition/pokitdok_project/ranked50000.jsonl\", 'r') as f:\n",
    "    the_data = [json.loads(l) for l in f]\n",
    "    \n",
    "b = datetime.datetime.now().replace(microsecond=0)\n",
    "print(b-a)"
   ]
  },
  {
   "cell_type": "code",
   "execution_count": null,
   "metadata": {
    "collapsed": true
   },
   "outputs": [],
   "source": [
    "the_data[0]"
   ]
  }
 ],
 "metadata": {
  "kernelspec": {
   "display_name": "Python [conda root]",
   "language": "python",
   "name": "conda-root-py"
  },
  "language_info": {
   "codemirror_mode": {
    "name": "ipython",
    "version": 2
   },
   "file_extension": ".py",
   "mimetype": "text/x-python",
   "name": "python",
   "nbconvert_exporter": "python",
   "pygments_lexer": "ipython2",
   "version": "2.7.12"
  }
 },
 "nbformat": 4,
 "nbformat_minor": 1
}
